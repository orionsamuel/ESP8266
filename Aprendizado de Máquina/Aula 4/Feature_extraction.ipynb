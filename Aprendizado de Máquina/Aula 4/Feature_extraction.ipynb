{
  "nbformat": 4,
  "nbformat_minor": 0,
  "metadata": {
    "colab": {
      "name": "Feature_extraction.ipynb",
      "provenance": [],
      "collapsed_sections": []
    },
    "kernelspec": {
      "name": "python3",
      "display_name": "Python 3"
    }
  },
  "cells": [
    {
      "cell_type": "markdown",
      "metadata": {
        "id": "ZddwaxRni6lY"
      },
      "source": [
        "# **Feature engineering: extraction**\n",
        "\n",
        "As mentioned in the [feature selection notebook](https://github.com/leobezerra/scikit-zero/blob/master/en/notebooks/Feature_selection.ipynb), the Feature engineering pipeline also includes feature extraction. Feature Extraction aims to reduce the number of features in a dataset by creating new features from the existing ones (and then discarding the original features).\n",
        "\n",
        "Feature Extraction techniques can lead advantages such as:\n",
        "- Accuracy improvements.\n",
        "- Overfitting risk reduction.\n",
        "- Speed up in training.\n",
        "- Improved Data Visualization.\n",
        "- Increase in explainability of our model.\n",
        "\n",
        "In this notebook we are going to use pandas and sckit-learn (sklearn), which is used for data mining and analysis. The dataset we use for all examples of algorithms will be the popular iris dataset\n"
      ]
    },
    {
      "cell_type": "code",
      "metadata": {
        "id": "HwEfTq7RfRd1"
      },
      "source": [
        "import pandas as pd\n",
        "\n",
        "url = \"https://archive.ics.uci.edu/ml/machine-learning-databases/iris/iris.data\"\n",
        "\n",
        "df = pd.read_csv(url, names=['sepal length','sepal width','petal length','petal width','target'])"
      ],
      "execution_count": 1,
      "outputs": []
    },
    {
      "cell_type": "markdown",
      "metadata": {
        "id": "FE9KLh1t3aMO"
      },
      "source": [
        "Verifying uploaded data:"
      ]
    },
    {
      "cell_type": "code",
      "metadata": {
        "id": "yN3eT0nY3Z7L",
        "colab": {
          "base_uri": "https://localhost:8080/",
          "height": 204
        },
        "outputId": "f4a6ac04-88b7-4dc7-ec59-05bc3ca11967"
      },
      "source": [
        "df.head()"
      ],
      "execution_count": 2,
      "outputs": [
        {
          "output_type": "execute_result",
          "data": {
            "text/html": [
              "<div>\n",
              "<style scoped>\n",
              "    .dataframe tbody tr th:only-of-type {\n",
              "        vertical-align: middle;\n",
              "    }\n",
              "\n",
              "    .dataframe tbody tr th {\n",
              "        vertical-align: top;\n",
              "    }\n",
              "\n",
              "    .dataframe thead th {\n",
              "        text-align: right;\n",
              "    }\n",
              "</style>\n",
              "<table border=\"1\" class=\"dataframe\">\n",
              "  <thead>\n",
              "    <tr style=\"text-align: right;\">\n",
              "      <th></th>\n",
              "      <th>sepal length</th>\n",
              "      <th>sepal width</th>\n",
              "      <th>petal length</th>\n",
              "      <th>petal width</th>\n",
              "      <th>target</th>\n",
              "    </tr>\n",
              "  </thead>\n",
              "  <tbody>\n",
              "    <tr>\n",
              "      <th>0</th>\n",
              "      <td>5.1</td>\n",
              "      <td>3.5</td>\n",
              "      <td>1.4</td>\n",
              "      <td>0.2</td>\n",
              "      <td>Iris-setosa</td>\n",
              "    </tr>\n",
              "    <tr>\n",
              "      <th>1</th>\n",
              "      <td>4.9</td>\n",
              "      <td>3.0</td>\n",
              "      <td>1.4</td>\n",
              "      <td>0.2</td>\n",
              "      <td>Iris-setosa</td>\n",
              "    </tr>\n",
              "    <tr>\n",
              "      <th>2</th>\n",
              "      <td>4.7</td>\n",
              "      <td>3.2</td>\n",
              "      <td>1.3</td>\n",
              "      <td>0.2</td>\n",
              "      <td>Iris-setosa</td>\n",
              "    </tr>\n",
              "    <tr>\n",
              "      <th>3</th>\n",
              "      <td>4.6</td>\n",
              "      <td>3.1</td>\n",
              "      <td>1.5</td>\n",
              "      <td>0.2</td>\n",
              "      <td>Iris-setosa</td>\n",
              "    </tr>\n",
              "    <tr>\n",
              "      <th>4</th>\n",
              "      <td>5.0</td>\n",
              "      <td>3.6</td>\n",
              "      <td>1.4</td>\n",
              "      <td>0.2</td>\n",
              "      <td>Iris-setosa</td>\n",
              "    </tr>\n",
              "  </tbody>\n",
              "</table>\n",
              "</div>"
            ],
            "text/plain": [
              "   sepal length  sepal width  petal length  petal width       target\n",
              "0           5.1          3.5           1.4          0.2  Iris-setosa\n",
              "1           4.9          3.0           1.4          0.2  Iris-setosa\n",
              "2           4.7          3.2           1.3          0.2  Iris-setosa\n",
              "3           4.6          3.1           1.5          0.2  Iris-setosa\n",
              "4           5.0          3.6           1.4          0.2  Iris-setosa"
            ]
          },
          "metadata": {
            "tags": []
          },
          "execution_count": 2
        }
      ]
    },
    {
      "cell_type": "markdown",
      "metadata": {
        "id": "vWlUDidC4IJ2"
      },
      "source": [
        "We can see that the iris dataset has 4 features. When extracting features we ended up reducing the dimensionality of the data. In other words, the number of features. There are some algorithms for this purpose, the ones we will cover are:\n",
        "\n",
        "\n",
        "*   ***Principal component analysis (PCA)***\n",
        "*   ***Linear discriminant analysis (LDA)***\n",
        "*   ***Independent component analysis (ICA)***\n",
        "*   ***t-Distributed Stochastic Neighbor Embedding (t-SNE)***\n",
        " \n",
        "\n",
        "\n",
        "\n",
        "\n",
        "\n",
        "\n",
        "\n",
        "\n",
        "\n",
        "\n",
        "\n",
        "\n",
        "\n",
        "\n"
      ]
    },
    {
      "cell_type": "markdown",
      "metadata": {
        "id": "4yKi7UeyV3ng"
      },
      "source": [
        "## **PCA** \n",
        "\n",
        "> An unsupervised linear dimensionality reduction technique that uses an orthogonal transformation to convert a set of observations of possibly correlated variables into a set of linearly uncorrelated variable values called principal components. The number of main components is always less than or equal to the number of original variables. The PCA is associated with a technique for reducing the mass of data, with the least possible loss of information, grouping them in an order according to their variation, that is, according to their behavior within the population. In this way, it allows to summarize and visualize the information in a data set containing the information by multiple correlated quantitative variables, extracting important information from a data table, making it easier to work, since smaller sets are easier to explore by providing faster the algorithm to be implemented.\n",
        "\n",
        "\n"
      ]
    },
    {
      "cell_type": "code",
      "metadata": {
        "id": "cO3V0YWbG9vZ",
        "colab": {
          "base_uri": "https://localhost:8080/",
          "height": 204
        },
        "outputId": "ca5898c4-3ca2-492f-e8b7-8dc45670e161"
      },
      "source": [
        "from sklearn.decomposition import PCA\n",
        "from sklearn.preprocessing import StandardScaler\n",
        "import numpy as np\n",
        "\n",
        "features = ['sepal length', 'sepal width', 'petal length', 'petal width']\n",
        "\n",
        "x = df.loc[:, features].values\n",
        "y = df.loc[:,['target']].values\n",
        "x = StandardScaler().fit_transform(x)\n",
        "\n",
        "pca = PCA(n_components=3)\n",
        "componentes = pca.fit_transform(x)\n",
        "\n",
        "\n",
        "\n",
        "PCAdf = pd.DataFrame(data = componentes\n",
        "             , columns = ['componente 1', 'componente 2','componente 3'])\n",
        "\n",
        "PCAdf.head()"
      ],
      "execution_count": 3,
      "outputs": [
        {
          "output_type": "execute_result",
          "data": {
            "text/html": [
              "<div>\n",
              "<style scoped>\n",
              "    .dataframe tbody tr th:only-of-type {\n",
              "        vertical-align: middle;\n",
              "    }\n",
              "\n",
              "    .dataframe tbody tr th {\n",
              "        vertical-align: top;\n",
              "    }\n",
              "\n",
              "    .dataframe thead th {\n",
              "        text-align: right;\n",
              "    }\n",
              "</style>\n",
              "<table border=\"1\" class=\"dataframe\">\n",
              "  <thead>\n",
              "    <tr style=\"text-align: right;\">\n",
              "      <th></th>\n",
              "      <th>componente 1</th>\n",
              "      <th>componente 2</th>\n",
              "      <th>componente 3</th>\n",
              "    </tr>\n",
              "  </thead>\n",
              "  <tbody>\n",
              "    <tr>\n",
              "      <th>0</th>\n",
              "      <td>-2.264542</td>\n",
              "      <td>0.505704</td>\n",
              "      <td>-0.121943</td>\n",
              "    </tr>\n",
              "    <tr>\n",
              "      <th>1</th>\n",
              "      <td>-2.086426</td>\n",
              "      <td>-0.655405</td>\n",
              "      <td>-0.227251</td>\n",
              "    </tr>\n",
              "    <tr>\n",
              "      <th>2</th>\n",
              "      <td>-2.367950</td>\n",
              "      <td>-0.318477</td>\n",
              "      <td>0.051480</td>\n",
              "    </tr>\n",
              "    <tr>\n",
              "      <th>3</th>\n",
              "      <td>-2.304197</td>\n",
              "      <td>-0.575368</td>\n",
              "      <td>0.098860</td>\n",
              "    </tr>\n",
              "    <tr>\n",
              "      <th>4</th>\n",
              "      <td>-2.388777</td>\n",
              "      <td>0.674767</td>\n",
              "      <td>0.021428</td>\n",
              "    </tr>\n",
              "  </tbody>\n",
              "</table>\n",
              "</div>"
            ],
            "text/plain": [
              "   componente 1  componente 2  componente 3\n",
              "0     -2.264542      0.505704     -0.121943\n",
              "1     -2.086426     -0.655405     -0.227251\n",
              "2     -2.367950     -0.318477      0.051480\n",
              "3     -2.304197     -0.575368      0.098860\n",
              "4     -2.388777      0.674767      0.021428"
            ]
          },
          "metadata": {
            "tags": []
          },
          "execution_count": 3
        }
      ]
    },
    {
      "cell_type": "markdown",
      "metadata": {
        "id": "GL6bzUeGIvaW"
      },
      "source": [
        "Joining the two components with the target:"
      ]
    },
    {
      "cell_type": "code",
      "metadata": {
        "id": "Q0dgKHwT3glx",
        "colab": {
          "base_uri": "https://localhost:8080/",
          "height": 204
        },
        "outputId": "e1fa22a6-2a35-4223-ce8a-5e437c85d041"
      },
      "source": [
        "finaldf = pd.concat([PCAdf, df[['target']]], axis = 1)\n",
        "\n",
        "finaldf.head()"
      ],
      "execution_count": 4,
      "outputs": [
        {
          "output_type": "execute_result",
          "data": {
            "text/html": [
              "<div>\n",
              "<style scoped>\n",
              "    .dataframe tbody tr th:only-of-type {\n",
              "        vertical-align: middle;\n",
              "    }\n",
              "\n",
              "    .dataframe tbody tr th {\n",
              "        vertical-align: top;\n",
              "    }\n",
              "\n",
              "    .dataframe thead th {\n",
              "        text-align: right;\n",
              "    }\n",
              "</style>\n",
              "<table border=\"1\" class=\"dataframe\">\n",
              "  <thead>\n",
              "    <tr style=\"text-align: right;\">\n",
              "      <th></th>\n",
              "      <th>componente 1</th>\n",
              "      <th>componente 2</th>\n",
              "      <th>componente 3</th>\n",
              "      <th>target</th>\n",
              "    </tr>\n",
              "  </thead>\n",
              "  <tbody>\n",
              "    <tr>\n",
              "      <th>0</th>\n",
              "      <td>-2.264542</td>\n",
              "      <td>0.505704</td>\n",
              "      <td>-0.121943</td>\n",
              "      <td>Iris-setosa</td>\n",
              "    </tr>\n",
              "    <tr>\n",
              "      <th>1</th>\n",
              "      <td>-2.086426</td>\n",
              "      <td>-0.655405</td>\n",
              "      <td>-0.227251</td>\n",
              "      <td>Iris-setosa</td>\n",
              "    </tr>\n",
              "    <tr>\n",
              "      <th>2</th>\n",
              "      <td>-2.367950</td>\n",
              "      <td>-0.318477</td>\n",
              "      <td>0.051480</td>\n",
              "      <td>Iris-setosa</td>\n",
              "    </tr>\n",
              "    <tr>\n",
              "      <th>3</th>\n",
              "      <td>-2.304197</td>\n",
              "      <td>-0.575368</td>\n",
              "      <td>0.098860</td>\n",
              "      <td>Iris-setosa</td>\n",
              "    </tr>\n",
              "    <tr>\n",
              "      <th>4</th>\n",
              "      <td>-2.388777</td>\n",
              "      <td>0.674767</td>\n",
              "      <td>0.021428</td>\n",
              "      <td>Iris-setosa</td>\n",
              "    </tr>\n",
              "  </tbody>\n",
              "</table>\n",
              "</div>"
            ],
            "text/plain": [
              "   componente 1  componente 2  componente 3       target\n",
              "0     -2.264542      0.505704     -0.121943  Iris-setosa\n",
              "1     -2.086426     -0.655405     -0.227251  Iris-setosa\n",
              "2     -2.367950     -0.318477      0.051480  Iris-setosa\n",
              "3     -2.304197     -0.575368      0.098860  Iris-setosa\n",
              "4     -2.388777      0.674767      0.021428  Iris-setosa"
            ]
          },
          "metadata": {
            "tags": []
          },
          "execution_count": 4
        }
      ]
    },
    {
      "cell_type": "markdown",
      "metadata": {
        "id": "tOFAfLNDJDP4"
      },
      "source": [
        "We can see that we reduced the number of features in the dataset to just 2 components, they together contain 95.8% of the initial information."
      ]
    },
    {
      "cell_type": "markdown",
      "metadata": {
        "id": "7Ucrv6i2OqTh"
      },
      "source": [
        "It shows the value of the variation of each main component relative to the original data\n"
      ]
    },
    {
      "cell_type": "code",
      "metadata": {
        "id": "DiWdhxkAR4J1",
        "colab": {
          "base_uri": "https://localhost:8080/",
          "height": 279
        },
        "outputId": "490d046c-2ba6-42b0-af3c-e981d94101c6"
      },
      "source": [
        "import seaborn as sns\n",
        "\n",
        "df = pd.DataFrame({'var':pca.explained_variance_ratio_,\n",
        "             'PC':['PC1','PC2','PC3']})\n",
        "sns.barplot(x='PC',y=\"var\", \n",
        "           data=df, color=\"c\");"
      ],
      "execution_count": 5,
      "outputs": [
        {
          "output_type": "display_data",
          "data": {
            "image/png": "[encoded data removed]",
            "text/plain": [
              "<Figure size 432x288 with 1 Axes>"
            ]
          },
          "metadata": {
            "tags": [],
            "needs_background": "light"
          }
        }
      ]
    },
    {
      "cell_type": "markdown",
      "metadata": {
        "id": "PU6yUIElKKhy"
      },
      "source": [
        "## ***LDA***\n",
        "\n",
        "> It is also a method of reducing dimensionality that uses information from the categories (SUPERVISED) associated with each pattern to linearly extract the most discriminating characteristics. LDA is most commonly used as a dimensionality reduction technique in the pre-processing step for classifying patterns and machine learning applications. The objective is to design a data set in a space of a smaller dimension with good class separability, in order to avoid overfitting and also reduce computational costs. With this approach, the similarity between the LDA and the PCA is perceived, but besides finding the axes of components that maximize the variation of the data, it is also necessary to find the axes that maximize the separation between various classes, it helps to avoid overfitting by minimizing the error in parameter estimation.\n"
      ]
    },
    {
      "cell_type": "code",
      "metadata": {
        "id": "2lgnSuSgKWWT",
        "colab": {
          "base_uri": "https://localhost:8080/"
        },
        "outputId": "8d8089db-bf70-4c7b-af8e-eac54d18139d"
      },
      "source": [
        "from sklearn.discriminant_analysis import LinearDiscriminantAnalysis as LDA\n",
        "from sklearn.model_selection import train_test_split\n",
        "\n",
        "\n",
        "X_train, X_test, y_train, y_test = train_test_split(x, y, test_size=0.2, random_state=0)\n",
        "\n",
        "lda = LDA(n_components=2)\n",
        "\n",
        "X_test"
      ],
      "execution_count": 6,
      "outputs": [
        {
          "output_type": "execute_result",
          "data": {
            "text/plain": [
              "array([[-5.25060772e-02, -5.87763531e-01,  7.62758643e-01,\n",
              "         1.57942861e+00],\n",
              "       [ 1.89829664e-01, -1.97618132e+00,  1.37235899e-01,\n",
              "        -2.61192967e-01],\n",
              "       [-4.16009689e-01,  2.65187798e+00, -1.34127240e+00,\n",
              "        -1.31297673e+00],\n",
              "       [ 1.76501198e+00, -3.56360566e-01,  1.44514709e+00,\n",
              "         7.90590793e-01],\n",
              "       [-1.02184904e+00,  8.00654259e-01, -1.28440670e+00,\n",
              "        -1.31297673e+00],\n",
              "       [ 5.53333275e-01,  5.69251294e-01,  1.27454998e+00,\n",
              "         1.71090158e+00],\n",
              "       [-1.02184904e+00,  1.03205722e+00, -1.39813811e+00,\n",
              "        -1.18150376e+00],\n",
              "       [ 1.03800476e+00,  1.06445364e-01,  5.35295827e-01,\n",
              "         3.96171883e-01],\n",
              "       [ 1.15917263e+00, -5.87763531e-01,  5.92161531e-01,\n",
              "         2.64698913e-01],\n",
              "       [ 3.10997534e-01, -5.87763531e-01,  1.37235899e-01,\n",
              "         1.33225943e-01],\n",
              "       [ 3.10997534e-01, -1.05056946e+00,  1.04708716e+00,\n",
              "         2.64698913e-01],\n",
              "       [ 6.74501145e-01,  3.37848329e-01,  4.21564419e-01,\n",
              "         3.96171883e-01],\n",
              "       [ 3.10997534e-01, -5.87763531e-01,  5.35295827e-01,\n",
              "         1.75297293e-03],\n",
              "       [ 7.95669016e-01, -5.87763531e-01,  4.78430123e-01,\n",
              "         3.96171883e-01],\n",
              "       [ 3.10997534e-01, -3.56360566e-01,  5.35295827e-01,\n",
              "         2.64698913e-01],\n",
              "       [-1.14301691e+00,  1.06445364e-01, -1.28440670e+00,\n",
              "        -1.44444970e+00],\n",
              "       [ 1.89829664e-01, -3.56360566e-01,  4.21564419e-01,\n",
              "         3.96171883e-01],\n",
              "       [-4.16009689e-01, -1.05056946e+00,  3.64698715e-01,\n",
              "         1.75297293e-03],\n",
              "       [-1.26418478e+00, -1.24957601e-01, -1.34127240e+00,\n",
              "        -1.18150376e+00],\n",
              "       [-5.37177559e-01,  1.95766909e+00, -1.39813811e+00,\n",
              "        -1.05003079e+00],\n",
              "       [-2.94841818e-01, -5.87763531e-01,  6.49027235e-01,\n",
              "         1.05353673e+00],\n",
              "       [-2.94841818e-01, -1.24957601e-01,  4.21564419e-01,\n",
              "         3.96171883e-01],\n",
              "       [-1.26418478e+00,  8.00654259e-01, -1.05694388e+00,\n",
              "        -1.31297673e+00],\n",
              "       [-1.74885626e+00, -3.56360566e-01, -1.34127240e+00,\n",
              "        -1.31297673e+00],\n",
              "       [ 4.32165405e-01, -5.87763531e-01,  5.92161531e-01,\n",
              "         7.90590793e-01],\n",
              "       [-1.50652052e+00,  1.26346019e+00, -1.56873522e+00,\n",
              "        -1.31297673e+00],\n",
              "       [-9.00681170e-01,  1.72626612e+00, -1.05694388e+00,\n",
              "        -1.05003079e+00],\n",
              "       [ 4.32165405e-01, -3.56360566e-01,  3.07833011e-01,\n",
              "         1.33225943e-01],\n",
              "       [-1.02184904e+00, -1.74477836e+00, -2.60824029e-01,\n",
              "        -2.61192967e-01],\n",
              "       [-1.02184904e+00,  8.00654259e-01, -1.22754100e+00,\n",
              "        -1.05003079e+00]])"
            ]
          },
          "metadata": {
            "tags": []
          },
          "execution_count": 6
        }
      ]
    },
    {
      "cell_type": "markdown",
      "metadata": {
        "id": "DtNw9YxBgWgv"
      },
      "source": [
        "Reducing to 2 features:"
      ]
    },
    {
      "cell_type": "code",
      "metadata": {
        "id": "kbblTQ5YfdnB",
        "colab": {
          "base_uri": "https://localhost:8080/"
        },
        "outputId": "967205c7-2a71-4b69-bb66-86a91b611d15"
      },
      "source": [
        "X_train = lda.fit_transform(X_train, y_train)\n",
        "X_test = lda.transform(X_test)\n",
        "\n",
        "X_test"
      ],
      "execution_count": 7,
      "outputs": [
        {
          "output_type": "stream",
          "text": [
            "/usr/local/lib/python3.6/dist-packages/sklearn/utils/validation.py:760: DataConversionWarning: A column-vector y was passed when a 1d array was expected. Please change the shape of y to (n_samples, ), for example using ravel().\n",
            "  y = column_or_1d(y, warn=True)\n"
          ],
          "name": "stderr"
        },
        {
          "output_type": "execute_result",
          "data": {
            "text/plain": [
              "array([[-6.57373148,  1.33053159],\n",
              "       [-0.78963671, -2.46571777],\n",
              "       [ 9.50092478,  1.94200901],\n",
              "       [-6.01851648, -0.97080763],\n",
              "       [ 7.70249962,  0.04247026],\n",
              "       [-7.75089197,  1.7094983 ],\n",
              "       [ 8.02240263,  0.77692631],\n",
              "       [-1.86519373,  0.20624286],\n",
              "       [-2.11243194, -0.73009025],\n",
              "       [-0.71861157, -0.39115625],\n",
              "       [-4.94879712, -2.47121818],\n",
              "       [-1.58372213,  0.48919318],\n",
              "       [-2.06217315, -1.56029699],\n",
              "       [-2.23503629, -0.34097707],\n",
              "       [-2.47718063, -0.77994712],\n",
              "       [ 7.47856328, -0.87305862],\n",
              "       [-2.3921455 , -0.28683294],\n",
              "       [-2.25436383, -1.87656708],\n",
              "       [ 6.92858111, -0.3985868 ],\n",
              "       [ 8.68884633,  2.03779807],\n",
              "       [-5.22737702,  0.29412406],\n",
              "       [-2.67637631, -0.30549354],\n",
              "       [ 6.57109478, -0.56075158],\n",
              "       [ 6.65528183, -1.0914344 ],\n",
              "       [-3.82746162,  0.13992375],\n",
              "       [ 8.70402366,  0.83717712],\n",
              "       [ 6.86069093,  0.94362392],\n",
              "       [-1.17656771, -0.52423001],\n",
              "       [-0.08019656, -1.92274484],\n",
              "       [ 6.92550266,  0.50867354]])"
            ]
          },
          "metadata": {
            "tags": []
          },
          "execution_count": 7
        }
      ]
    },
    {
      "cell_type": "markdown",
      "metadata": {
        "id": "O3jNlNjULGbS"
      },
      "source": [
        "## ***ICA***\n",
        "\n",
        "> A dimensionality reduction algorithm that transforms a set of variables ​​in a new set of components. It does this so that the statistical independence between the new components is maximized. This is similar to (PCA), which maps a collection of variables ​​for statistically unrelated components, except that the ICA goes a step further by maximizing statistical independence rather than just developing uncorrelated components. If we talk about an image, it means that you will find the curves and borders within an image. For example, in facial recognition, the ICA will identify the eyes, nose, mouth, etc. as independent components."
      ]
    },
    {
      "cell_type": "code",
      "metadata": {
        "id": "_gjFZxLbLG-h"
      },
      "source": [
        "from sklearn.decomposition import FastICA\n",
        "\n",
        "transformer = FastICA(n_components=2,random_state=0)\n",
        "x = transformer.fit_transform(x)\n",
        "x"
      ],
      "execution_count": null,
      "outputs": []
    },
    {
      "cell_type": "markdown",
      "metadata": {
        "id": "a_7vrWVyLFYB"
      },
      "source": [
        "## ***t-SNE***\n",
        "\n",
        "> The objective of t-SNE is from a set of points in a multi-dimensional space to find a faithful representation of these points in a space of smaller dimension, usually a 2D plane. The algorithm is non-linear and adapts to the data, performing different transformations in different regions of multi-dimensional space. \n",
        "PCA is similar to t-SNE, however PCA is a linear dimension reduction technique that aims to maximize variance and preserve large distances between pairs, on the other hand t-SNE preserves only small distances between pairs or local similarities. t-SNE calculates a measure of similarity between pairs of instances in the upper dimensional space and the lower dimensional space. He then tries to optimize these two similarity measures using a cost function."
      ]
    },
    {
      "cell_type": "code",
      "metadata": {
        "id": "QTC2g1R_PuO6"
      },
      "source": [
        "from sklearn.manifold import TSNE\n",
        "df = pd.read_csv(url, names=['sepal length','sepal width','petal length','petal width','target'])\n",
        "\n",
        "tsne = TSNE(n_components=2, n_iter=1000, random_state=40)\n",
        "points = tsne.fit_transform(df[features])\n",
        "\n",
        "points"
      ],
      "execution_count": null,
      "outputs": []
    },
    {
      "cell_type": "markdown",
      "metadata": {
        "id": "3uA-ANIGVgSn"
      },
      "source": [
        "Now that we have the two resulting dimensions we can visualise them by creating a scatter plot of the two dimensions and coloring each sample by its respective **label**."
      ]
    },
    {
      "cell_type": "code",
      "metadata": {
        "id": "ads655KHVhae"
      },
      "source": [
        "import matplotlib.pyplot as plt \n",
        "\n",
        "df['tsne-2d-one'] = points[:,0]\n",
        "df['tsne-2d-two'] = points[:,1]\n",
        "\n",
        "plt.figure(figsize=(10,7))\n",
        "sns.scatterplot(\n",
        "    x=\"tsne-2d-one\", y=\"tsne-2d-two\",\n",
        "    hue=\"target\",\n",
        "    data=df,\n",
        "    legend=\"full\",\n",
        "    alpha=0.3\n",
        ")"
      ],
      "execution_count": null,
      "outputs": []
    },
    {
      "cell_type": "markdown",
      "metadata": {
        "id": "gP7xN0-WXLZu"
      },
      "source": [
        "We can see that the **label** are very clearly clustered in their own sub groups. If we would now use a clustering algorithm to pick out the seperate clusters we could probably quite accurately assign new points to a **label**."
      ]
    }
  ]
}