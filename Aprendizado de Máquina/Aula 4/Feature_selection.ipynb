{
  "nbformat": 4,
  "nbformat_minor": 0,
  "metadata": {
    "colab": {
      "name": "Feature_selection.ipynb",
      "provenance": [],
      "collapsed_sections": [
        "XObfbrMzYn3I",
        "ACG3XWEaqItR",
        "yHFnFSyyqvE0",
        "AFDPPjRzuGrF",
        "tKx7wRyC3WLS",
        "Nj1DEyb595u5",
        "i0QG0szO_tyU",
        "f-wwv6o1Y1Wt",
        "6Lh-m1M7d3Xj",
        "hDaLy_65hyIo",
        "1VIW9M9AlHST"
      ]
    },
    "kernelspec": {
      "name": "python3",
      "display_name": "Python 3"
    }
  },
  "cells": [
    {
      "cell_type": "markdown",
      "metadata": {
        "id": "HR_4UtziOJrL"
      },
      "source": [
        "# **Feature Engineering**: Selection\n",
        "\n",
        "As previously discussed, the first step in a machine learning pipeline is data preparation. In previous notebooks we have discussed <ins>outliers</ins>, <ins>imputation</ins>, <ins>encoding</ins>, and <ins>transformation</ins>. An eager approach would be to feed right away the prepared data to estimators. In some situations, that is possible and could be done. Most often, however, providing estimators raw features is not advisable, either because the number of features is too large (e.g. due to one-hot encoding) or the information they convey is redundant. \n",
        "\n",
        "**Feature Engineering** is the Machine Learning pipeline step where we select the <ins>most relevant features</ins>, or even produce new features that are a better representation of the information conveyed by the original ones. Two sets of approaches can be adopted:\n",
        "- **Selection:** a subset of the original features is selected.\n",
        "- **Extraction:** new features are produced from the original ones.\n",
        "\n",
        "In other words, feature engineering is the process before estimating and predicting the data. The main idea is to extract features, via data mining techniques, that better represent the problem to the predictive models, resulting in improved model accuracy.\n",
        "\n",
        "If feature engineering is done correctly, it increases the predictive power of machine learning algorithms by creating features from raw data that help facilitate the machine learning process. Sometimes, removing the unwanted feature is also feature engineering. As the feature which is not related degrade the performance of the model. [Ref. 1](https://medium.com/mindorks/what-is-feature-engineering-for-machine-learning-d8ba3158d97a)\n",
        "\n",
        "In this notebook, we'll discuss **Feature Selection** approaches, particularly the ones provided by scikit-learn. \n",
        "\n",
        "Feature selection techniques can be used to find predictors that contain the most information. In machine learning and statistics, feature selection is the process of selecting a subset of relevant features (variables, predictors) for use in model construction. Feature selection techniques are used for several reasons [Ref. 2](https://en.wikipedia.org/wiki/Feature_selection):\n",
        "1. Simplification of models to make them easier to be interpreted;\n",
        "2. Shorter training times;\n",
        "3. To avoid dimensionality (redundancy);\n",
        "4. Enhanced generalization by reduction of variance.\n",
        "\n",
        "In a nutshell, these methods can be categorized as *filter*, *wrapper*, or *embedded*. To understand these from a practical perspective, let's load the Boston house price prediction dataset provided by scikit-learn:"
      ]
    },
    {
      "cell_type": "code",
      "metadata": {
        "id": "ZMJWa9XCdBvk",
        "colab": {
          "base_uri": "https://localhost:8080/"
        },
        "outputId": "f7424106-e1d5-4d22-afaf-a7bd5fbdbd2d"
      },
      "source": [
        "import pandas as pd\n",
        "import seaborn as sns\n",
        "sns.set()\n",
        "\n",
        "from sklearn.datasets import load_boston\n",
        "boston_data = load_boston()\n",
        "print(boston_data.DESCR)"
      ],
      "execution_count": 1,
      "outputs": [
        {
          "output_type": "stream",
          "text": [
            ".. _boston_dataset:\n",
            "\n",
            "Boston house prices dataset\n",
            "---------------------------\n",
            "\n",
            "**Data Set Characteristics:**  \n",
            "\n",
            "    :Number of Instances: 506 \n",
            "\n",
            "    :Number of Attributes: 13 numeric/categorical predictive. Median Value (attribute 14) is usually the target.\n",
            "\n",
            "    :Attribute Information (in order):\n",
            "        - CRIM     per capita crime rate by town\n",
            "        - ZN       proportion of residential land zoned for lots over 25,000 sq.ft.\n",
            "        - INDUS    proportion of non-retail business acres per town\n",
            "        - CHAS     Charles River dummy variable (= 1 if tract bounds river; 0 otherwise)\n",
            "        - NOX      nitric oxides concentration (parts per 10 million)\n",
            "        - RM       average number of rooms per dwelling\n",
            "        - AGE      proportion of owner-occupied units built prior to 1940\n",
            "        - DIS      weighted distances to five Boston employment centres\n",
            "        - RAD      index of accessibility to radial highways\n",
            "        - TAX      full-value property-tax rate per $10,000\n",
            "        - PTRATIO  pupil-teacher ratio by town\n",
            "        - B        1000(Bk - 0.63)^2 where Bk is the proportion of blacks by town\n",
            "        - LSTAT    % lower status of the population\n",
            "        - MEDV     Median value of owner-occupied homes in $1000's\n",
            "\n",
            "    :Missing Attribute Values: None\n",
            "\n",
            "    :Creator: Harrison, D. and Rubinfeld, D.L.\n",
            "\n",
            "This is a copy of UCI ML housing dataset.\n",
            "https://archive.ics.uci.edu/ml/machine-learning-databases/housing/\n",
            "\n",
            "\n",
            "This dataset was taken from the StatLib library which is maintained at Carnegie Mellon University.\n",
            "\n",
            "The Boston house-price data of Harrison, D. and Rubinfeld, D.L. 'Hedonic\n",
            "prices and the demand for clean air', J. Environ. Economics & Management,\n",
            "vol.5, 81-102, 1978.   Used in Belsley, Kuh & Welsch, 'Regression diagnostics\n",
            "...', Wiley, 1980.   N.B. Various transformations are used in the table on\n",
            "pages 244-261 of the latter.\n",
            "\n",
            "The Boston house-price data has been used in many machine learning papers that address regression\n",
            "problems.   \n",
            "     \n",
            ".. topic:: References\n",
            "\n",
            "   - Belsley, Kuh & Welsch, 'Regression diagnostics: Identifying Influential Data and Sources of Collinearity', Wiley, 1980. 244-261.\n",
            "   - Quinlan,R. (1993). Combining Instance-Based and Model-Based Learning. In Proceedings on the Tenth International Conference of Machine Learning, 236-243, University of Massachusetts, Amherst. Morgan Kaufmann.\n",
            "\n"
          ],
          "name": "stdout"
        }
      ]
    },
    {
      "cell_type": "markdown",
      "metadata": {
        "id": "p2L_Ut5RdZVp"
      },
      "source": [
        "The data is provided as a structure where the `data` and `feature_names` attributes respectively represent the input characteristics and their names, and the `target` attribute represents the characteristic to be predicted (median market value):"
      ]
    },
    {
      "cell_type": "code",
      "metadata": {
        "id": "KFWkp4PQdYmc",
        "colab": {
          "base_uri": "https://localhost:8080/",
          "height": 204
        },
        "outputId": "4a366c0e-6e4a-4c8f-e591-05df1f5ceeb9"
      },
      "source": [
        "X = pd.DataFrame(boston_data.data, columns = boston_data.feature_names)\n",
        "y = pd.Series(boston_data.target, index = X.index, name = \"MEDV\")\n",
        "X.head()"
      ],
      "execution_count": 2,
      "outputs": [
        {
          "output_type": "execute_result",
          "data": {
            "text/html": [
              "<div>\n",
              "<style scoped>\n",
              "    .dataframe tbody tr th:only-of-type {\n",
              "        vertical-align: middle;\n",
              "    }\n",
              "\n",
              "    .dataframe tbody tr th {\n",
              "        vertical-align: top;\n",
              "    }\n",
              "\n",
              "    .dataframe thead th {\n",
              "        text-align: right;\n",
              "    }\n",
              "</style>\n",
              "<table border=\"1\" class=\"dataframe\">\n",
              "  <thead>\n",
              "    <tr style=\"text-align: right;\">\n",
              "      <th></th>\n",
              "      <th>CRIM</th>\n",
              "      <th>ZN</th>\n",
              "      <th>INDUS</th>\n",
              "      <th>CHAS</th>\n",
              "      <th>NOX</th>\n",
              "      <th>RM</th>\n",
              "      <th>AGE</th>\n",
              "      <th>DIS</th>\n",
              "      <th>RAD</th>\n",
              "      <th>TAX</th>\n",
              "      <th>PTRATIO</th>\n",
              "      <th>B</th>\n",
              "      <th>LSTAT</th>\n",
              "    </tr>\n",
              "  </thead>\n",
              "  <tbody>\n",
              "    <tr>\n",
              "      <th>0</th>\n",
              "      <td>0.00632</td>\n",
              "      <td>18.0</td>\n",
              "      <td>2.31</td>\n",
              "      <td>0.0</td>\n",
              "      <td>0.538</td>\n",
              "      <td>6.575</td>\n",
              "      <td>65.2</td>\n",
              "      <td>4.0900</td>\n",
              "      <td>1.0</td>\n",
              "      <td>296.0</td>\n",
              "      <td>15.3</td>\n",
              "      <td>396.90</td>\n",
              "      <td>4.98</td>\n",
              "    </tr>\n",
              "    <tr>\n",
              "      <th>1</th>\n",
              "      <td>0.02731</td>\n",
              "      <td>0.0</td>\n",
              "      <td>7.07</td>\n",
              "      <td>0.0</td>\n",
              "      <td>0.469</td>\n",
              "      <td>6.421</td>\n",
              "      <td>78.9</td>\n",
              "      <td>4.9671</td>\n",
              "      <td>2.0</td>\n",
              "      <td>242.0</td>\n",
              "      <td>17.8</td>\n",
              "      <td>396.90</td>\n",
              "      <td>9.14</td>\n",
              "    </tr>\n",
              "    <tr>\n",
              "      <th>2</th>\n",
              "      <td>0.02729</td>\n",
              "      <td>0.0</td>\n",
              "      <td>7.07</td>\n",
              "      <td>0.0</td>\n",
              "      <td>0.469</td>\n",
              "      <td>7.185</td>\n",
              "      <td>61.1</td>\n",
              "      <td>4.9671</td>\n",
              "      <td>2.0</td>\n",
              "      <td>242.0</td>\n",
              "      <td>17.8</td>\n",
              "      <td>392.83</td>\n",
              "      <td>4.03</td>\n",
              "    </tr>\n",
              "    <tr>\n",
              "      <th>3</th>\n",
              "      <td>0.03237</td>\n",
              "      <td>0.0</td>\n",
              "      <td>2.18</td>\n",
              "      <td>0.0</td>\n",
              "      <td>0.458</td>\n",
              "      <td>6.998</td>\n",
              "      <td>45.8</td>\n",
              "      <td>6.0622</td>\n",
              "      <td>3.0</td>\n",
              "      <td>222.0</td>\n",
              "      <td>18.7</td>\n",
              "      <td>394.63</td>\n",
              "      <td>2.94</td>\n",
              "    </tr>\n",
              "    <tr>\n",
              "      <th>4</th>\n",
              "      <td>0.06905</td>\n",
              "      <td>0.0</td>\n",
              "      <td>2.18</td>\n",
              "      <td>0.0</td>\n",
              "      <td>0.458</td>\n",
              "      <td>7.147</td>\n",
              "      <td>54.2</td>\n",
              "      <td>6.0622</td>\n",
              "      <td>3.0</td>\n",
              "      <td>222.0</td>\n",
              "      <td>18.7</td>\n",
              "      <td>396.90</td>\n",
              "      <td>5.33</td>\n",
              "    </tr>\n",
              "  </tbody>\n",
              "</table>\n",
              "</div>"
            ],
            "text/plain": [
              "      CRIM    ZN  INDUS  CHAS    NOX  ...  RAD    TAX  PTRATIO       B  LSTAT\n",
              "0  0.00632  18.0   2.31   0.0  0.538  ...  1.0  296.0     15.3  396.90   4.98\n",
              "1  0.02731   0.0   7.07   0.0  0.469  ...  2.0  242.0     17.8  396.90   9.14\n",
              "2  0.02729   0.0   7.07   0.0  0.469  ...  2.0  242.0     17.8  392.83   4.03\n",
              "3  0.03237   0.0   2.18   0.0  0.458  ...  3.0  222.0     18.7  394.63   2.94\n",
              "4  0.06905   0.0   2.18   0.0  0.458  ...  3.0  222.0     18.7  396.90   5.33\n",
              "\n",
              "[5 rows x 13 columns]"
            ]
          },
          "metadata": {
            "tags": []
          },
          "execution_count": 2
        }
      ]
    },
    {
      "cell_type": "code",
      "metadata": {
        "id": "n2duyNVed6Bl",
        "colab": {
          "base_uri": "https://localhost:8080/"
        },
        "outputId": "d0d23509-7301-4722-8718-cf53e8e645a2"
      },
      "source": [
        "y.head()"
      ],
      "execution_count": 3,
      "outputs": [
        {
          "output_type": "execute_result",
          "data": {
            "text/plain": [
              "0    24.0\n",
              "1    21.6\n",
              "2    34.7\n",
              "3    33.4\n",
              "4    36.2\n",
              "Name: MEDV, dtype: float64"
            ]
          },
          "metadata": {
            "tags": []
          },
          "execution_count": 3
        }
      ]
    },
    {
      "cell_type": "markdown",
      "metadata": {
        "id": "XObfbrMzYn3I"
      },
      "source": [
        "## **Filter** Approaches"
      ]
    },
    {
      "cell_type": "markdown",
      "metadata": {
        "id": "BTiCsgSxlY_z"
      },
      "source": [
        "This kind of approach is based on <ins>thresholds</ins>, as only properties of the given characteristic are used to determine whether it should be selected or not. Filter methods suppress the least interesting variables to ensure the best subset.  \n",
        "\n",
        "![image.png](data:image/png;base64,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)\n",
        "\n",
        "Basic schematic of filter approaches [Ref. 2](https://en.wikipedia.org/wiki/Feature_selection)\n",
        "\n",
        "The most trivial example is discarding based on missing values, as we discussed before. This can be done directly with Pandas, using the `dropna()` method with the `thresh` parameter. Let's see if this would apply to our case:"
      ]
    },
    {
      "cell_type": "code",
      "metadata": {
        "id": "KbXOXbI17G86",
        "colab": {
          "base_uri": "https://localhost:8080/"
        },
        "outputId": "35c3ad5d-0661-4728-cfed-bd75c9b537b5"
      },
      "source": [
        "X.isna().sum()"
      ],
      "execution_count": 4,
      "outputs": [
        {
          "output_type": "execute_result",
          "data": {
            "text/plain": [
              "CRIM       0\n",
              "ZN         0\n",
              "INDUS      0\n",
              "CHAS       0\n",
              "NOX        0\n",
              "RM         0\n",
              "AGE        0\n",
              "DIS        0\n",
              "RAD        0\n",
              "TAX        0\n",
              "PTRATIO    0\n",
              "B          0\n",
              "LSTAT      0\n",
              "dtype: int64"
            ]
          },
          "metadata": {
            "tags": []
          },
          "execution_count": 4
        }
      ]
    },
    {
      "cell_type": "markdown",
      "metadata": {
        "id": "vvD7S1jo7nBq"
      },
      "source": [
        "Well, as with toy datasets, no missing values! Let's anyway show how this would work, if we had to do it:"
      ]
    },
    {
      "cell_type": "code",
      "metadata": {
        "id": "7lATrPUt7JmX",
        "colab": {
          "base_uri": "https://localhost:8080/",
          "height": 419
        },
        "outputId": "a9a5916b-52f8-4138-eeec-6bcde7cbd566"
      },
      "source": [
        "n_samples = X.shape[0] # 506\n",
        "X.dropna(axis=1, thresh=0.1 * n_samples) # Treshold for missing values"
      ],
      "execution_count": 5,
      "outputs": [
        {
          "output_type": "execute_result",
          "data": {
            "text/html": [
              "<div>\n",
              "<style scoped>\n",
              "    .dataframe tbody tr th:only-of-type {\n",
              "        vertical-align: middle;\n",
              "    }\n",
              "\n",
              "    .dataframe tbody tr th {\n",
              "        vertical-align: top;\n",
              "    }\n",
              "\n",
              "    .dataframe thead th {\n",
              "        text-align: right;\n",
              "    }\n",
              "</style>\n",
              "<table border=\"1\" class=\"dataframe\">\n",
              "  <thead>\n",
              "    <tr style=\"text-align: right;\">\n",
              "      <th></th>\n",
              "      <th>CRIM</th>\n",
              "      <th>ZN</th>\n",
              "      <th>INDUS</th>\n",
              "      <th>CHAS</th>\n",
              "      <th>NOX</th>\n",
              "      <th>RM</th>\n",
              "      <th>AGE</th>\n",
              "      <th>DIS</th>\n",
              "      <th>RAD</th>\n",
              "      <th>TAX</th>\n",
              "      <th>PTRATIO</th>\n",
              "      <th>B</th>\n",
              "      <th>LSTAT</th>\n",
              "    </tr>\n",
              "  </thead>\n",
              "  <tbody>\n",
              "    <tr>\n",
              "      <th>0</th>\n",
              "      <td>0.00632</td>\n",
              "      <td>18.0</td>\n",
              "      <td>2.31</td>\n",
              "      <td>0.0</td>\n",
              "      <td>0.538</td>\n",
              "      <td>6.575</td>\n",
              "      <td>65.2</td>\n",
              "      <td>4.0900</td>\n",
              "      <td>1.0</td>\n",
              "      <td>296.0</td>\n",
              "      <td>15.3</td>\n",
              "      <td>396.90</td>\n",
              "      <td>4.98</td>\n",
              "    </tr>\n",
              "    <tr>\n",
              "      <th>1</th>\n",
              "      <td>0.02731</td>\n",
              "      <td>0.0</td>\n",
              "      <td>7.07</td>\n",
              "      <td>0.0</td>\n",
              "      <td>0.469</td>\n",
              "      <td>6.421</td>\n",
              "      <td>78.9</td>\n",
              "      <td>4.9671</td>\n",
              "      <td>2.0</td>\n",
              "      <td>242.0</td>\n",
              "      <td>17.8</td>\n",
              "      <td>396.90</td>\n",
              "      <td>9.14</td>\n",
              "    </tr>\n",
              "    <tr>\n",
              "      <th>2</th>\n",
              "      <td>0.02729</td>\n",
              "      <td>0.0</td>\n",
              "      <td>7.07</td>\n",
              "      <td>0.0</td>\n",
              "      <td>0.469</td>\n",
              "      <td>7.185</td>\n",
              "      <td>61.1</td>\n",
              "      <td>4.9671</td>\n",
              "      <td>2.0</td>\n",
              "      <td>242.0</td>\n",
              "      <td>17.8</td>\n",
              "      <td>392.83</td>\n",
              "      <td>4.03</td>\n",
              "    </tr>\n",
              "    <tr>\n",
              "      <th>3</th>\n",
              "      <td>0.03237</td>\n",
              "      <td>0.0</td>\n",
              "      <td>2.18</td>\n",
              "      <td>0.0</td>\n",
              "      <td>0.458</td>\n",
              "      <td>6.998</td>\n",
              "      <td>45.8</td>\n",
              "      <td>6.0622</td>\n",
              "      <td>3.0</td>\n",
              "      <td>222.0</td>\n",
              "      <td>18.7</td>\n",
              "      <td>394.63</td>\n",
              "      <td>2.94</td>\n",
              "    </tr>\n",
              "    <tr>\n",
              "      <th>4</th>\n",
              "      <td>0.06905</td>\n",
              "      <td>0.0</td>\n",
              "      <td>2.18</td>\n",
              "      <td>0.0</td>\n",
              "      <td>0.458</td>\n",
              "      <td>7.147</td>\n",
              "      <td>54.2</td>\n",
              "      <td>6.0622</td>\n",
              "      <td>3.0</td>\n",
              "      <td>222.0</td>\n",
              "      <td>18.7</td>\n",
              "      <td>396.90</td>\n",
              "      <td>5.33</td>\n",
              "    </tr>\n",
              "    <tr>\n",
              "      <th>...</th>\n",
              "      <td>...</td>\n",
              "      <td>...</td>\n",
              "      <td>...</td>\n",
              "      <td>...</td>\n",
              "      <td>...</td>\n",
              "      <td>...</td>\n",
              "      <td>...</td>\n",
              "      <td>...</td>\n",
              "      <td>...</td>\n",
              "      <td>...</td>\n",
              "      <td>...</td>\n",
              "      <td>...</td>\n",
              "      <td>...</td>\n",
              "    </tr>\n",
              "    <tr>\n",
              "      <th>501</th>\n",
              "      <td>0.06263</td>\n",
              "      <td>0.0</td>\n",
              "      <td>11.93</td>\n",
              "      <td>0.0</td>\n",
              "      <td>0.573</td>\n",
              "      <td>6.593</td>\n",
              "      <td>69.1</td>\n",
              "      <td>2.4786</td>\n",
              "      <td>1.0</td>\n",
              "      <td>273.0</td>\n",
              "      <td>21.0</td>\n",
              "      <td>391.99</td>\n",
              "      <td>9.67</td>\n",
              "    </tr>\n",
              "    <tr>\n",
              "      <th>502</th>\n",
              "      <td>0.04527</td>\n",
              "      <td>0.0</td>\n",
              "      <td>11.93</td>\n",
              "      <td>0.0</td>\n",
              "      <td>0.573</td>\n",
              "      <td>6.120</td>\n",
              "      <td>76.7</td>\n",
              "      <td>2.2875</td>\n",
              "      <td>1.0</td>\n",
              "      <td>273.0</td>\n",
              "      <td>21.0</td>\n",
              "      <td>396.90</td>\n",
              "      <td>9.08</td>\n",
              "    </tr>\n",
              "    <tr>\n",
              "      <th>503</th>\n",
              "      <td>0.06076</td>\n",
              "      <td>0.0</td>\n",
              "      <td>11.93</td>\n",
              "      <td>0.0</td>\n",
              "      <td>0.573</td>\n",
              "      <td>6.976</td>\n",
              "      <td>91.0</td>\n",
              "      <td>2.1675</td>\n",
              "      <td>1.0</td>\n",
              "      <td>273.0</td>\n",
              "      <td>21.0</td>\n",
              "      <td>396.90</td>\n",
              "      <td>5.64</td>\n",
              "    </tr>\n",
              "    <tr>\n",
              "      <th>504</th>\n",
              "      <td>0.10959</td>\n",
              "      <td>0.0</td>\n",
              "      <td>11.93</td>\n",
              "      <td>0.0</td>\n",
              "      <td>0.573</td>\n",
              "      <td>6.794</td>\n",
              "      <td>89.3</td>\n",
              "      <td>2.3889</td>\n",
              "      <td>1.0</td>\n",
              "      <td>273.0</td>\n",
              "      <td>21.0</td>\n",
              "      <td>393.45</td>\n",
              "      <td>6.48</td>\n",
              "    </tr>\n",
              "    <tr>\n",
              "      <th>505</th>\n",
              "      <td>0.04741</td>\n",
              "      <td>0.0</td>\n",
              "      <td>11.93</td>\n",
              "      <td>0.0</td>\n",
              "      <td>0.573</td>\n",
              "      <td>6.030</td>\n",
              "      <td>80.8</td>\n",
              "      <td>2.5050</td>\n",
              "      <td>1.0</td>\n",
              "      <td>273.0</td>\n",
              "      <td>21.0</td>\n",
              "      <td>396.90</td>\n",
              "      <td>7.88</td>\n",
              "    </tr>\n",
              "  </tbody>\n",
              "</table>\n",
              "<p>506 rows × 13 columns</p>\n",
              "</div>"
            ],
            "text/plain": [
              "        CRIM    ZN  INDUS  CHAS    NOX  ...  RAD    TAX  PTRATIO       B  LSTAT\n",
              "0    0.00632  18.0   2.31   0.0  0.538  ...  1.0  296.0     15.3  396.90   4.98\n",
              "1    0.02731   0.0   7.07   0.0  0.469  ...  2.0  242.0     17.8  396.90   9.14\n",
              "2    0.02729   0.0   7.07   0.0  0.469  ...  2.0  242.0     17.8  392.83   4.03\n",
              "3    0.03237   0.0   2.18   0.0  0.458  ...  3.0  222.0     18.7  394.63   2.94\n",
              "4    0.06905   0.0   2.18   0.0  0.458  ...  3.0  222.0     18.7  396.90   5.33\n",
              "..       ...   ...    ...   ...    ...  ...  ...    ...      ...     ...    ...\n",
              "501  0.06263   0.0  11.93   0.0  0.573  ...  1.0  273.0     21.0  391.99   9.67\n",
              "502  0.04527   0.0  11.93   0.0  0.573  ...  1.0  273.0     21.0  396.90   9.08\n",
              "503  0.06076   0.0  11.93   0.0  0.573  ...  1.0  273.0     21.0  396.90   5.64\n",
              "504  0.10959   0.0  11.93   0.0  0.573  ...  1.0  273.0     21.0  393.45   6.48\n",
              "505  0.04741   0.0  11.93   0.0  0.573  ...  1.0  273.0     21.0  396.90   7.88\n",
              "\n",
              "[506 rows x 13 columns]"
            ]
          },
          "metadata": {
            "tags": []
          },
          "execution_count": 5
        }
      ]
    },
    {
      "cell_type": "markdown",
      "metadata": {
        "id": "KrK5k98CefS_"
      },
      "source": [
        "The code above removes all features for which over **90%** of the values are missing. \n",
        "\n",
        "> Note that the approach above is not compatible with scikit-learn pipelines, so it should be applied even before data preparation ;)"
      ]
    },
    {
      "cell_type": "markdown",
      "metadata": {
        "id": "7yCA5eRo7yBn"
      },
      "source": [
        "A second example of filter approach is based on variance, which filters out features for which the variance is below a given threshold. The variance filter is provided by scikit-learn as the `VarianceThreshold` resource. Let's apply this filter to our data: "
      ]
    },
    {
      "cell_type": "code",
      "metadata": {
        "id": "LwKETsgwkNQr",
        "colab": {
          "base_uri": "https://localhost:8080/"
        },
        "outputId": "c136a46e-2f90-402c-ff7e-1bd3292f8124"
      },
      "source": [
        "X.var()"
      ],
      "execution_count": 6,
      "outputs": [
        {
          "output_type": "execute_result",
          "data": {
            "text/plain": [
              "CRIM          73.986578\n",
              "ZN           543.936814\n",
              "INDUS         47.064442\n",
              "CHAS           0.064513\n",
              "NOX            0.013428\n",
              "RM             0.493671\n",
              "AGE          792.358399\n",
              "DIS            4.434015\n",
              "RAD           75.816366\n",
              "TAX        28404.759488\n",
              "PTRATIO        4.686989\n",
              "B           8334.752263\n",
              "LSTAT         50.994760\n",
              "dtype: float64"
            ]
          },
          "metadata": {
            "tags": []
          },
          "execution_count": 6
        }
      ]
    },
    {
      "cell_type": "markdown",
      "metadata": {
        "id": "to03V3iRJ8WX"
      },
      "source": [
        "> Hmm.. The variations are quite spread out, so how can we set a common threshold? \n",
        "\n",
        "Remember that feature selection usually comes after data preparation, so at that point your numerical features should have unit standard deviation (which also means unit variance). Let's set the threshold to 0.1, to ensure only features with at least **10%** variance will be preserved:\n",
        "\n",
        "> In the code below, we get the preserved column names using the `get_support()` method. This method provides a series of boolean values that we can use to identify which columns have been kept and which have been discarded."
      ]
    },
    {
      "cell_type": "code",
      "metadata": {
        "id": "xPbLy-JwkUGZ",
        "colab": {
          "base_uri": "https://localhost:8080/",
          "height": 419
        },
        "outputId": "0493e05a-f19b-4b89-affe-c0d41f2a3b99"
      },
      "source": [
        "from sklearn.preprocessing import MinMaxScaler, StandardScaler\n",
        "from sklearn.feature_selection import VarianceThreshold\n",
        "from sklearn.pipeline import make_pipeline\n",
        "\n",
        "var_selector = VarianceThreshold(threshold=0.1)\n",
        "pipe = make_pipeline(MinMaxScaler(),\n",
        "                     StandardScaler(),\n",
        "                     var_selector)\n",
        "\n",
        "pipe.fit(X)\n",
        "column_mask = var_selector.get_support()\n",
        "pd.DataFrame(pipe.transform(X), \n",
        "             columns=X.columns[column_mask])"
      ],
      "execution_count": 7,
      "outputs": [
        {
          "output_type": "execute_result",
          "data": {
            "text/html": [
              "<div>\n",
              "<style scoped>\n",
              "    .dataframe tbody tr th:only-of-type {\n",
              "        vertical-align: middle;\n",
              "    }\n",
              "\n",
              "    .dataframe tbody tr th {\n",
              "        vertical-align: top;\n",
              "    }\n",
              "\n",
              "    .dataframe thead th {\n",
              "        text-align: right;\n",
              "    }\n",
              "</style>\n",
              "<table border=\"1\" class=\"dataframe\">\n",
              "  <thead>\n",
              "    <tr style=\"text-align: right;\">\n",
              "      <th></th>\n",
              "      <th>CRIM</th>\n",
              "      <th>ZN</th>\n",
              "      <th>INDUS</th>\n",
              "      <th>CHAS</th>\n",
              "      <th>NOX</th>\n",
              "      <th>RM</th>\n",
              "      <th>AGE</th>\n",
              "      <th>DIS</th>\n",
              "      <th>RAD</th>\n",
              "      <th>TAX</th>\n",
              "      <th>PTRATIO</th>\n",
              "      <th>B</th>\n",
              "      <th>LSTAT</th>\n",
              "    </tr>\n",
              "  </thead>\n",
              "  <tbody>\n",
              "    <tr>\n",
              "      <th>0</th>\n",
              "      <td>-0.419782</td>\n",
              "      <td>0.284830</td>\n",
              "      <td>-1.287909</td>\n",
              "      <td>-0.272599</td>\n",
              "      <td>-0.144217</td>\n",
              "      <td>0.413672</td>\n",
              "      <td>-0.120013</td>\n",
              "      <td>0.140214</td>\n",
              "      <td>-0.982843</td>\n",
              "      <td>-0.666608</td>\n",
              "      <td>-1.459000</td>\n",
              "      <td>0.441052</td>\n",
              "      <td>-1.075562</td>\n",
              "    </tr>\n",
              "    <tr>\n",
              "      <th>1</th>\n",
              "      <td>-0.417339</td>\n",
              "      <td>-0.487722</td>\n",
              "      <td>-0.593381</td>\n",
              "      <td>-0.272599</td>\n",
              "      <td>-0.740262</td>\n",
              "      <td>0.194274</td>\n",
              "      <td>0.367166</td>\n",
              "      <td>0.557160</td>\n",
              "      <td>-0.867883</td>\n",
              "      <td>-0.987329</td>\n",
              "      <td>-0.303094</td>\n",
              "      <td>0.441052</td>\n",
              "      <td>-0.492439</td>\n",
              "    </tr>\n",
              "    <tr>\n",
              "      <th>2</th>\n",
              "      <td>-0.417342</td>\n",
              "      <td>-0.487722</td>\n",
              "      <td>-0.593381</td>\n",
              "      <td>-0.272599</td>\n",
              "      <td>-0.740262</td>\n",
              "      <td>1.282714</td>\n",
              "      <td>-0.265812</td>\n",
              "      <td>0.557160</td>\n",
              "      <td>-0.867883</td>\n",
              "      <td>-0.987329</td>\n",
              "      <td>-0.303094</td>\n",
              "      <td>0.396427</td>\n",
              "      <td>-1.208727</td>\n",
              "    </tr>\n",
              "    <tr>\n",
              "      <th>3</th>\n",
              "      <td>-0.416750</td>\n",
              "      <td>-0.487722</td>\n",
              "      <td>-1.306878</td>\n",
              "      <td>-0.272599</td>\n",
              "      <td>-0.835284</td>\n",
              "      <td>1.016303</td>\n",
              "      <td>-0.809889</td>\n",
              "      <td>1.077737</td>\n",
              "      <td>-0.752922</td>\n",
              "      <td>-1.106115</td>\n",
              "      <td>0.113032</td>\n",
              "      <td>0.416163</td>\n",
              "      <td>-1.361517</td>\n",
              "    </tr>\n",
              "    <tr>\n",
              "      <th>4</th>\n",
              "      <td>-0.412482</td>\n",
              "      <td>-0.487722</td>\n",
              "      <td>-1.306878</td>\n",
              "      <td>-0.272599</td>\n",
              "      <td>-0.835284</td>\n",
              "      <td>1.228577</td>\n",
              "      <td>-0.511180</td>\n",
              "      <td>1.077737</td>\n",
              "      <td>-0.752922</td>\n",
              "      <td>-1.106115</td>\n",
              "      <td>0.113032</td>\n",
              "      <td>0.441052</td>\n",
              "      <td>-1.026501</td>\n",
              "    </tr>\n",
              "    <tr>\n",
              "      <th>...</th>\n",
              "      <td>...</td>\n",
              "      <td>...</td>\n",
              "      <td>...</td>\n",
              "      <td>...</td>\n",
              "      <td>...</td>\n",
              "      <td>...</td>\n",
              "      <td>...</td>\n",
              "      <td>...</td>\n",
              "      <td>...</td>\n",
              "      <td>...</td>\n",
              "      <td>...</td>\n",
              "      <td>...</td>\n",
              "      <td>...</td>\n",
              "    </tr>\n",
              "    <tr>\n",
              "      <th>501</th>\n",
              "      <td>-0.413229</td>\n",
              "      <td>-0.487722</td>\n",
              "      <td>0.115738</td>\n",
              "      <td>-0.272599</td>\n",
              "      <td>0.158124</td>\n",
              "      <td>0.439316</td>\n",
              "      <td>0.018673</td>\n",
              "      <td>-0.625796</td>\n",
              "      <td>-0.982843</td>\n",
              "      <td>-0.803212</td>\n",
              "      <td>1.176466</td>\n",
              "      <td>0.387217</td>\n",
              "      <td>-0.418147</td>\n",
              "    </tr>\n",
              "    <tr>\n",
              "      <th>502</th>\n",
              "      <td>-0.415249</td>\n",
              "      <td>-0.487722</td>\n",
              "      <td>0.115738</td>\n",
              "      <td>-0.272599</td>\n",
              "      <td>0.158124</td>\n",
              "      <td>-0.234548</td>\n",
              "      <td>0.288933</td>\n",
              "      <td>-0.716639</td>\n",
              "      <td>-0.982843</td>\n",
              "      <td>-0.803212</td>\n",
              "      <td>1.176466</td>\n",
              "      <td>0.441052</td>\n",
              "      <td>-0.500850</td>\n",
              "    </tr>\n",
              "    <tr>\n",
              "      <th>503</th>\n",
              "      <td>-0.413447</td>\n",
              "      <td>-0.487722</td>\n",
              "      <td>0.115738</td>\n",
              "      <td>-0.272599</td>\n",
              "      <td>0.158124</td>\n",
              "      <td>0.984960</td>\n",
              "      <td>0.797449</td>\n",
              "      <td>-0.773684</td>\n",
              "      <td>-0.982843</td>\n",
              "      <td>-0.803212</td>\n",
              "      <td>1.176466</td>\n",
              "      <td>0.441052</td>\n",
              "      <td>-0.983048</td>\n",
              "    </tr>\n",
              "    <tr>\n",
              "      <th>504</th>\n",
              "      <td>-0.407764</td>\n",
              "      <td>-0.487722</td>\n",
              "      <td>0.115738</td>\n",
              "      <td>-0.272599</td>\n",
              "      <td>0.158124</td>\n",
              "      <td>0.725672</td>\n",
              "      <td>0.736996</td>\n",
              "      <td>-0.668437</td>\n",
              "      <td>-0.982843</td>\n",
              "      <td>-0.803212</td>\n",
              "      <td>1.176466</td>\n",
              "      <td>0.403225</td>\n",
              "      <td>-0.865302</td>\n",
              "    </tr>\n",
              "    <tr>\n",
              "      <th>505</th>\n",
              "      <td>-0.415000</td>\n",
              "      <td>-0.487722</td>\n",
              "      <td>0.115738</td>\n",
              "      <td>-0.272599</td>\n",
              "      <td>0.158124</td>\n",
              "      <td>-0.362767</td>\n",
              "      <td>0.434732</td>\n",
              "      <td>-0.613246</td>\n",
              "      <td>-0.982843</td>\n",
              "      <td>-0.803212</td>\n",
              "      <td>1.176466</td>\n",
              "      <td>0.441052</td>\n",
              "      <td>-0.669058</td>\n",
              "    </tr>\n",
              "  </tbody>\n",
              "</table>\n",
              "<p>506 rows × 13 columns</p>\n",
              "</div>"
            ],
            "text/plain": [
              "         CRIM        ZN     INDUS  ...   PTRATIO         B     LSTAT\n",
              "0   -0.419782  0.284830 -1.287909  ... -1.459000  0.441052 -1.075562\n",
              "1   -0.417339 -0.487722 -0.593381  ... -0.303094  0.441052 -0.492439\n",
              "2   -0.417342 -0.487722 -0.593381  ... -0.303094  0.396427 -1.208727\n",
              "3   -0.416750 -0.487722 -1.306878  ...  0.113032  0.416163 -1.361517\n",
              "4   -0.412482 -0.487722 -1.306878  ...  0.113032  0.441052 -1.026501\n",
              "..        ...       ...       ...  ...       ...       ...       ...\n",
              "501 -0.413229 -0.487722  0.115738  ...  1.176466  0.387217 -0.418147\n",
              "502 -0.415249 -0.487722  0.115738  ...  1.176466  0.441052 -0.500850\n",
              "503 -0.413447 -0.487722  0.115738  ...  1.176466  0.441052 -0.983048\n",
              "504 -0.407764 -0.487722  0.115738  ...  1.176466  0.403225 -0.865302\n",
              "505 -0.415000 -0.487722  0.115738  ...  1.176466  0.441052 -0.669058\n",
              "\n",
              "[506 rows x 13 columns]"
            ]
          },
          "metadata": {
            "tags": []
          },
          "execution_count": 7
        }
      ]
    },
    {
      "cell_type": "markdown",
      "metadata": {
        "id": "LVeTtRvkorFS"
      },
      "source": [
        "Note that the no features have been discarded with a 0.1 threshold, this means that no feature has less than 10% variance. Since we don't have many features, there's no need to increase this threshold here."
      ]
    },
    {
      "cell_type": "markdown",
      "metadata": {
        "id": "ACG3XWEaqItR"
      },
      "source": [
        "## **Wrapper** Approaches\n"
      ]
    },
    {
      "cell_type": "markdown",
      "metadata": {
        "id": "S0aqmc_Dqd5x"
      },
      "source": [
        "This family of approaches builds models to understand feature importance. Wrapper methods evaluate subsets of variables which allows to detect the possible interactions between variables.\n",
        "\n",
        "Overall, they can be categorized as **uni-** or **multivariate**."
      ]
    },
    {
      "cell_type": "markdown",
      "metadata": {
        "id": "yHFnFSyyqvE0"
      },
      "source": [
        "### Univariate Selection"
      ]
    },
    {
      "cell_type": "markdown",
      "metadata": {
        "id": "nG1fXItBqxZv"
      },
      "source": [
        "Univariate selection is done using statistical tests on individual features. Test scores are used as measures of feature importance, allowing an absolute or relative number of features to be retrieved. Scikit-learn offers two resources for selection:\n",
        "\n",
        "- Absolute number of features: `SelectKBest`\n",
        "- Relative number of features: `SelectPercentile`\n",
        "\n",
        "Let's see a practical example using two different statistical tests:"
      ]
    },
    {
      "cell_type": "code",
      "metadata": {
        "id": "kEGEKf_7sLjw",
        "colab": {
          "base_uri": "https://localhost:8080/",
          "height": 419
        },
        "outputId": "aa248e6a-27fd-4890-f3d4-ac322cb29676"
      },
      "source": [
        "from sklearn.feature_selection import SelectKBest, f_regression\n",
        "kbest_selector = SelectKBest(f_regression, 5)\n",
        "pd.DataFrame(kbest_selector.fit_transform(X, y), \n",
        "             columns=X.columns[kbest_selector.get_support()])"
      ],
      "execution_count": 8,
      "outputs": [
        {
          "output_type": "execute_result",
          "data": {
            "text/html": [
              "<div>\n",
              "<style scoped>\n",
              "    .dataframe tbody tr th:only-of-type {\n",
              "        vertical-align: middle;\n",
              "    }\n",
              "\n",
              "    .dataframe tbody tr th {\n",
              "        vertical-align: top;\n",
              "    }\n",
              "\n",
              "    .dataframe thead th {\n",
              "        text-align: right;\n",
              "    }\n",
              "</style>\n",
              "<table border=\"1\" class=\"dataframe\">\n",
              "  <thead>\n",
              "    <tr style=\"text-align: right;\">\n",
              "      <th></th>\n",
              "      <th>INDUS</th>\n",
              "      <th>RM</th>\n",
              "      <th>TAX</th>\n",
              "      <th>PTRATIO</th>\n",
              "      <th>LSTAT</th>\n",
              "    </tr>\n",
              "  </thead>\n",
              "  <tbody>\n",
              "    <tr>\n",
              "      <th>0</th>\n",
              "      <td>2.31</td>\n",
              "      <td>6.575</td>\n",
              "      <td>296.0</td>\n",
              "      <td>15.3</td>\n",
              "      <td>4.98</td>\n",
              "    </tr>\n",
              "    <tr>\n",
              "      <th>1</th>\n",
              "      <td>7.07</td>\n",
              "      <td>6.421</td>\n",
              "      <td>242.0</td>\n",
              "      <td>17.8</td>\n",
              "      <td>9.14</td>\n",
              "    </tr>\n",
              "    <tr>\n",
              "      <th>2</th>\n",
              "      <td>7.07</td>\n",
              "      <td>7.185</td>\n",
              "      <td>242.0</td>\n",
              "      <td>17.8</td>\n",
              "      <td>4.03</td>\n",
              "    </tr>\n",
              "    <tr>\n",
              "      <th>3</th>\n",
              "      <td>2.18</td>\n",
              "      <td>6.998</td>\n",
              "      <td>222.0</td>\n",
              "      <td>18.7</td>\n",
              "      <td>2.94</td>\n",
              "    </tr>\n",
              "    <tr>\n",
              "      <th>4</th>\n",
              "      <td>2.18</td>\n",
              "      <td>7.147</td>\n",
              "      <td>222.0</td>\n",
              "      <td>18.7</td>\n",
              "      <td>5.33</td>\n",
              "    </tr>\n",
              "    <tr>\n",
              "      <th>...</th>\n",
              "      <td>...</td>\n",
              "      <td>...</td>\n",
              "      <td>...</td>\n",
              "      <td>...</td>\n",
              "      <td>...</td>\n",
              "    </tr>\n",
              "    <tr>\n",
              "      <th>501</th>\n",
              "      <td>11.93</td>\n",
              "      <td>6.593</td>\n",
              "      <td>273.0</td>\n",
              "      <td>21.0</td>\n",
              "      <td>9.67</td>\n",
              "    </tr>\n",
              "    <tr>\n",
              "      <th>502</th>\n",
              "      <td>11.93</td>\n",
              "      <td>6.120</td>\n",
              "      <td>273.0</td>\n",
              "      <td>21.0</td>\n",
              "      <td>9.08</td>\n",
              "    </tr>\n",
              "    <tr>\n",
              "      <th>503</th>\n",
              "      <td>11.93</td>\n",
              "      <td>6.976</td>\n",
              "      <td>273.0</td>\n",
              "      <td>21.0</td>\n",
              "      <td>5.64</td>\n",
              "    </tr>\n",
              "    <tr>\n",
              "      <th>504</th>\n",
              "      <td>11.93</td>\n",
              "      <td>6.794</td>\n",
              "      <td>273.0</td>\n",
              "      <td>21.0</td>\n",
              "      <td>6.48</td>\n",
              "    </tr>\n",
              "    <tr>\n",
              "      <th>505</th>\n",
              "      <td>11.93</td>\n",
              "      <td>6.030</td>\n",
              "      <td>273.0</td>\n",
              "      <td>21.0</td>\n",
              "      <td>7.88</td>\n",
              "    </tr>\n",
              "  </tbody>\n",
              "</table>\n",
              "<p>506 rows × 5 columns</p>\n",
              "</div>"
            ],
            "text/plain": [
              "     INDUS     RM    TAX  PTRATIO  LSTAT\n",
              "0     2.31  6.575  296.0     15.3   4.98\n",
              "1     7.07  6.421  242.0     17.8   9.14\n",
              "2     7.07  7.185  242.0     17.8   4.03\n",
              "3     2.18  6.998  222.0     18.7   2.94\n",
              "4     2.18  7.147  222.0     18.7   5.33\n",
              "..     ...    ...    ...      ...    ...\n",
              "501  11.93  6.593  273.0     21.0   9.67\n",
              "502  11.93  6.120  273.0     21.0   9.08\n",
              "503  11.93  6.976  273.0     21.0   5.64\n",
              "504  11.93  6.794  273.0     21.0   6.48\n",
              "505  11.93  6.030  273.0     21.0   7.88\n",
              "\n",
              "[506 rows x 5 columns]"
            ]
          },
          "metadata": {
            "tags": []
          },
          "execution_count": 8
        }
      ]
    },
    {
      "cell_type": "markdown",
      "metadata": {
        "id": "8x3vqrXmsp5q"
      },
      "source": [
        "Let's discuss the example above for a minute. The statistical test applied is one of the options provided by scikit-learn for regression problems. It is based on the correlation between each characteristic and the target characteristic, so we have to provide `y` as an argument to `fit_transform`."
      ]
    },
    {
      "cell_type": "markdown",
      "metadata": {
        "id": "ImK7P3ZYjGHN"
      },
      "source": [
        "Let's compare the selected features above with the correlation map between input and target features to see that they match:\n",
        "\n",
        "> If you missed the episode on cluster maps, check [pandas-zero](https://github.com/leobezerra/pandas-zero)."
      ]
    },
    {
      "cell_type": "code",
      "metadata": {
        "id": "kcsX2aaeTvLx",
        "colab": {
          "base_uri": "https://localhost:8080/",
          "height": 746
        },
        "outputId": "79b1ffc3-c0a7-440d-bbf4-9b015ca649a2"
      },
      "source": [
        "import matplotlib.pyplot as plt\n",
        "\n",
        "full_data = pd.concat([X, y], axis=1)\n",
        "\n",
        "plt.figure(figsize=(12,10))\n",
        "sns.clustermap(full_data.corr(), annot=True, cmap=\"Reds\", \n",
        "               cbar_pos=None, dendrogram_ratio=0.1, fmt='.2g')\n",
        "plt.show()"
      ],
      "execution_count": 9,
      "outputs": [
        {
          "output_type": "display_data",
          "data": {
            "text/plain": [
              "<Figure size 864x720 with 0 Axes>"
            ]
          },
          "metadata": {
            "tags": []
          }
        },
        {
          "output_type": "display_data",
          "data": {
            "image/png": "[encoded data removed]",
            "text/plain": [
              "<Figure size 720x720 with 3 Axes>"
            ]
          },
          "metadata": {
            "tags": [],
            "needs_background": "light"
          }
        }
      ]
    },
    {
      "cell_type": "markdown",
      "metadata": {
        "id": "uqG5NfNcwgjs"
      },
      "source": [
        "Note that the five features that are best correlate with the target feature are indeed `LSTAT` (-0.74), `RM`(0.7), `PTRATIO` (-0.51), `INDUS` (-0.48), and `TAX` (-0.47). We could have, instead, provided a statistical test based on mutual information between the input and target features."
      ]
    },
    {
      "cell_type": "markdown",
      "metadata": {
        "id": "EhySV-nqjcl1"
      },
      "source": [
        "Let's see how that works, but selecting a relative number of features:"
      ]
    },
    {
      "cell_type": "code",
      "metadata": {
        "id": "fUPvmkCVtRmE",
        "colab": {
          "base_uri": "https://localhost:8080/",
          "height": 419
        },
        "outputId": "824bbf76-c655-40f1-a920-20e5de953534"
      },
      "source": [
        "from sklearn.feature_selection import SelectPercentile, mutual_info_regression\n",
        "percentile_selector = SelectPercentile(mutual_info_regression, 50) # 50% FEATURES MAIS RELEVANTES\n",
        "pd.DataFrame(percentile_selector.fit_transform(X, y), \n",
        "             columns=X.columns[percentile_selector.get_support()])"
      ],
      "execution_count": 10,
      "outputs": [
        {
          "output_type": "execute_result",
          "data": {
            "text/html": [
              "<div>\n",
              "<style scoped>\n",
              "    .dataframe tbody tr th:only-of-type {\n",
              "        vertical-align: middle;\n",
              "    }\n",
              "\n",
              "    .dataframe tbody tr th {\n",
              "        vertical-align: top;\n",
              "    }\n",
              "\n",
              "    .dataframe thead th {\n",
              "        text-align: right;\n",
              "    }\n",
              "</style>\n",
              "<table border=\"1\" class=\"dataframe\">\n",
              "  <thead>\n",
              "    <tr style=\"text-align: right;\">\n",
              "      <th></th>\n",
              "      <th>INDUS</th>\n",
              "      <th>NOX</th>\n",
              "      <th>RM</th>\n",
              "      <th>TAX</th>\n",
              "      <th>PTRATIO</th>\n",
              "      <th>LSTAT</th>\n",
              "    </tr>\n",
              "  </thead>\n",
              "  <tbody>\n",
              "    <tr>\n",
              "      <th>0</th>\n",
              "      <td>2.31</td>\n",
              "      <td>0.538</td>\n",
              "      <td>6.575</td>\n",
              "      <td>296.0</td>\n",
              "      <td>15.3</td>\n",
              "      <td>4.98</td>\n",
              "    </tr>\n",
              "    <tr>\n",
              "      <th>1</th>\n",
              "      <td>7.07</td>\n",
              "      <td>0.469</td>\n",
              "      <td>6.421</td>\n",
              "      <td>242.0</td>\n",
              "      <td>17.8</td>\n",
              "      <td>9.14</td>\n",
              "    </tr>\n",
              "    <tr>\n",
              "      <th>2</th>\n",
              "      <td>7.07</td>\n",
              "      <td>0.469</td>\n",
              "      <td>7.185</td>\n",
              "      <td>242.0</td>\n",
              "      <td>17.8</td>\n",
              "      <td>4.03</td>\n",
              "    </tr>\n",
              "    <tr>\n",
              "      <th>3</th>\n",
              "      <td>2.18</td>\n",
              "      <td>0.458</td>\n",
              "      <td>6.998</td>\n",
              "      <td>222.0</td>\n",
              "      <td>18.7</td>\n",
              "      <td>2.94</td>\n",
              "    </tr>\n",
              "    <tr>\n",
              "      <th>4</th>\n",
              "      <td>2.18</td>\n",
              "      <td>0.458</td>\n",
              "      <td>7.147</td>\n",
              "      <td>222.0</td>\n",
              "      <td>18.7</td>\n",
              "      <td>5.33</td>\n",
              "    </tr>\n",
              "    <tr>\n",
              "      <th>...</th>\n",
              "      <td>...</td>\n",
              "      <td>...</td>\n",
              "      <td>...</td>\n",
              "      <td>...</td>\n",
              "      <td>...</td>\n",
              "      <td>...</td>\n",
              "    </tr>\n",
              "    <tr>\n",
              "      <th>501</th>\n",
              "      <td>11.93</td>\n",
              "      <td>0.573</td>\n",
              "      <td>6.593</td>\n",
              "      <td>273.0</td>\n",
              "      <td>21.0</td>\n",
              "      <td>9.67</td>\n",
              "    </tr>\n",
              "    <tr>\n",
              "      <th>502</th>\n",
              "      <td>11.93</td>\n",
              "      <td>0.573</td>\n",
              "      <td>6.120</td>\n",
              "      <td>273.0</td>\n",
              "      <td>21.0</td>\n",
              "      <td>9.08</td>\n",
              "    </tr>\n",
              "    <tr>\n",
              "      <th>503</th>\n",
              "      <td>11.93</td>\n",
              "      <td>0.573</td>\n",
              "      <td>6.976</td>\n",
              "      <td>273.0</td>\n",
              "      <td>21.0</td>\n",
              "      <td>5.64</td>\n",
              "    </tr>\n",
              "    <tr>\n",
              "      <th>504</th>\n",
              "      <td>11.93</td>\n",
              "      <td>0.573</td>\n",
              "      <td>6.794</td>\n",
              "      <td>273.0</td>\n",
              "      <td>21.0</td>\n",
              "      <td>6.48</td>\n",
              "    </tr>\n",
              "    <tr>\n",
              "      <th>505</th>\n",
              "      <td>11.93</td>\n",
              "      <td>0.573</td>\n",
              "      <td>6.030</td>\n",
              "      <td>273.0</td>\n",
              "      <td>21.0</td>\n",
              "      <td>7.88</td>\n",
              "    </tr>\n",
              "  </tbody>\n",
              "</table>\n",
              "<p>506 rows × 6 columns</p>\n",
              "</div>"
            ],
            "text/plain": [
              "     INDUS    NOX     RM    TAX  PTRATIO  LSTAT\n",
              "0     2.31  0.538  6.575  296.0     15.3   4.98\n",
              "1     7.07  0.469  6.421  242.0     17.8   9.14\n",
              "2     7.07  0.469  7.185  242.0     17.8   4.03\n",
              "3     2.18  0.458  6.998  222.0     18.7   2.94\n",
              "4     2.18  0.458  7.147  222.0     18.7   5.33\n",
              "..     ...    ...    ...    ...      ...    ...\n",
              "501  11.93  0.573  6.593  273.0     21.0   9.67\n",
              "502  11.93  0.573  6.120  273.0     21.0   9.08\n",
              "503  11.93  0.573  6.976  273.0     21.0   5.64\n",
              "504  11.93  0.573  6.794  273.0     21.0   6.48\n",
              "505  11.93  0.573  6.030  273.0     21.0   7.88\n",
              "\n",
              "[506 rows x 6 columns]"
            ]
          },
          "metadata": {
            "tags": []
          },
          "execution_count": 10
        }
      ]
    },
    {
      "cell_type": "markdown",
      "metadata": {
        "id": "mLvr4tpYtpku"
      },
      "source": [
        "Scikit-learn offers several other statistics for regression and classification problems, but they would exceed the scope of this notebook. Let's move on to Multivariate Approaches."
      ]
    },
    {
      "cell_type": "markdown",
      "metadata": {
        "id": "AFDPPjRzuGrF"
      },
      "source": [
        "### **Multivariate** selection"
      ]
    },
    {
      "cell_type": "markdown",
      "metadata": {
        "id": "kWkMckCf3ISa"
      },
      "source": [
        "Approaches that build models from multiple input features are called multivariate. \n",
        "\n",
        "\n",
        "![Feature_selection_Wrapper_Method.png](data:image/png;base64,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)\n",
        "\n",
        "Basic schematic of multivariate wrapper approaches [Ref. 2](https://en.wikipedia.org/wiki/Feature_selection)\n",
        "\n",
        "Selection based on multivariate approaches can be done at a one-shot pass, or iteratively."
      ]
    },
    {
      "cell_type": "markdown",
      "metadata": {
        "id": "tKx7wRyC3WLS"
      },
      "source": [
        "#### One-shot selection"
      ]
    },
    {
      "cell_type": "markdown",
      "metadata": {
        "id": "9ufzoaFE3YqQ"
      },
      "source": [
        "One-shot multivariate approaches fit a single model and select features based on the importance assigned by these model to each feature. Scikit-learn provides a handful of estimators that assign feature importance internally, and can then be used for this type of selection. Let's see a pratical example of that:"
      ]
    },
    {
      "cell_type": "code",
      "metadata": {
        "id": "nxws355L3_GO",
        "colab": {
          "base_uri": "https://localhost:8080/",
          "height": 419
        },
        "outputId": "b5b132f0-5b5d-4df3-a3e3-a465794eaa7b"
      },
      "source": [
        "from sklearn.feature_selection import SelectFromModel\n",
        "from sklearn.ensemble import RandomForestRegressor\n",
        "oneshot_selector = SelectFromModel(RandomForestRegressor())\n",
        "pd.DataFrame(oneshot_selector.fit_transform(X, y), \n",
        "             columns=X.columns[oneshot_selector.get_support()])"
      ],
      "execution_count": 11,
      "outputs": [
        {
          "output_type": "execute_result",
          "data": {
            "text/html": [
              "<div>\n",
              "<style scoped>\n",
              "    .dataframe tbody tr th:only-of-type {\n",
              "        vertical-align: middle;\n",
              "    }\n",
              "\n",
              "    .dataframe tbody tr th {\n",
              "        vertical-align: top;\n",
              "    }\n",
              "\n",
              "    .dataframe thead th {\n",
              "        text-align: right;\n",
              "    }\n",
              "</style>\n",
              "<table border=\"1\" class=\"dataframe\">\n",
              "  <thead>\n",
              "    <tr style=\"text-align: right;\">\n",
              "      <th></th>\n",
              "      <th>RM</th>\n",
              "      <th>LSTAT</th>\n",
              "    </tr>\n",
              "  </thead>\n",
              "  <tbody>\n",
              "    <tr>\n",
              "      <th>0</th>\n",
              "      <td>6.575</td>\n",
              "      <td>4.98</td>\n",
              "    </tr>\n",
              "    <tr>\n",
              "      <th>1</th>\n",
              "      <td>6.421</td>\n",
              "      <td>9.14</td>\n",
              "    </tr>\n",
              "    <tr>\n",
              "      <th>2</th>\n",
              "      <td>7.185</td>\n",
              "      <td>4.03</td>\n",
              "    </tr>\n",
              "    <tr>\n",
              "      <th>3</th>\n",
              "      <td>6.998</td>\n",
              "      <td>2.94</td>\n",
              "    </tr>\n",
              "    <tr>\n",
              "      <th>4</th>\n",
              "      <td>7.147</td>\n",
              "      <td>5.33</td>\n",
              "    </tr>\n",
              "    <tr>\n",
              "      <th>...</th>\n",
              "      <td>...</td>\n",
              "      <td>...</td>\n",
              "    </tr>\n",
              "    <tr>\n",
              "      <th>501</th>\n",
              "      <td>6.593</td>\n",
              "      <td>9.67</td>\n",
              "    </tr>\n",
              "    <tr>\n",
              "      <th>502</th>\n",
              "      <td>6.120</td>\n",
              "      <td>9.08</td>\n",
              "    </tr>\n",
              "    <tr>\n",
              "      <th>503</th>\n",
              "      <td>6.976</td>\n",
              "      <td>5.64</td>\n",
              "    </tr>\n",
              "    <tr>\n",
              "      <th>504</th>\n",
              "      <td>6.794</td>\n",
              "      <td>6.48</td>\n",
              "    </tr>\n",
              "    <tr>\n",
              "      <th>505</th>\n",
              "      <td>6.030</td>\n",
              "      <td>7.88</td>\n",
              "    </tr>\n",
              "  </tbody>\n",
              "</table>\n",
              "<p>506 rows × 2 columns</p>\n",
              "</div>"
            ],
            "text/plain": [
              "        RM  LSTAT\n",
              "0    6.575   4.98\n",
              "1    6.421   9.14\n",
              "2    7.185   4.03\n",
              "3    6.998   2.94\n",
              "4    7.147   5.33\n",
              "..     ...    ...\n",
              "501  6.593   9.67\n",
              "502  6.120   9.08\n",
              "503  6.976   5.64\n",
              "504  6.794   6.48\n",
              "505  6.030   7.88\n",
              "\n",
              "[506 rows x 2 columns]"
            ]
          },
          "metadata": {
            "tags": []
          },
          "execution_count": 11
        }
      ]
    },
    {
      "cell_type": "markdown",
      "metadata": {
        "id": "BDEBDDrr41zh"
      },
      "source": [
        "> That was brutal!\n",
        "\n",
        "Let's understand what happened. First, we provided a random forest estimator to the `SelectFromModel` selector. Random forests are among the most used estimators for feature selection, as well as the following options:\n",
        "\n",
        "| Approach | Regression | Classification |\n",
        "| --- | --- | --- |\n",
        "| L1-norm | `Lasso`, `SVR` | `LogisticRegression`, `SVC` | \n",
        "| Tree-based | `ExtraTreesRegressor`  | `ExtraTreesClassifier`\n",
        "| | `RandomForestRegressor` | `RandomForestClassifier` | "
      ]
    },
    {
      "cell_type": "markdown",
      "metadata": {
        "id": "c5qBD_6I8Uuu"
      },
      "source": [
        "Still, using a given estimator doesn't imply directly at such a brutal feature reduction. That happened because we didn't configure a threshold, so `SelectFromModel` used the mean feature importance as selection threshold. Let's see what happens if we used the median feature importance, instead:"
      ]
    },
    {
      "cell_type": "code",
      "metadata": {
        "id": "warKK_dV847p",
        "colab": {
          "base_uri": "https://localhost:8080/",
          "height": 419
        },
        "outputId": "d06018f2-1d64-474e-8fbd-5d2629295d76"
      },
      "source": [
        "oneshot_selector = SelectFromModel(RandomForestRegressor(),\n",
        "                                   threshold=\"median\")\n",
        "pd.DataFrame(oneshot_selector.fit_transform(X, y), \n",
        "             columns=X.columns[oneshot_selector.get_support()])"
      ],
      "execution_count": 12,
      "outputs": [
        {
          "output_type": "execute_result",
          "data": {
            "text/html": [
              "<div>\n",
              "<style scoped>\n",
              "    .dataframe tbody tr th:only-of-type {\n",
              "        vertical-align: middle;\n",
              "    }\n",
              "\n",
              "    .dataframe tbody tr th {\n",
              "        vertical-align: top;\n",
              "    }\n",
              "\n",
              "    .dataframe thead th {\n",
              "        text-align: right;\n",
              "    }\n",
              "</style>\n",
              "<table border=\"1\" class=\"dataframe\">\n",
              "  <thead>\n",
              "    <tr style=\"text-align: right;\">\n",
              "      <th></th>\n",
              "      <th>CRIM</th>\n",
              "      <th>NOX</th>\n",
              "      <th>RM</th>\n",
              "      <th>DIS</th>\n",
              "      <th>TAX</th>\n",
              "      <th>PTRATIO</th>\n",
              "      <th>LSTAT</th>\n",
              "    </tr>\n",
              "  </thead>\n",
              "  <tbody>\n",
              "    <tr>\n",
              "      <th>0</th>\n",
              "      <td>0.00632</td>\n",
              "      <td>0.538</td>\n",
              "      <td>6.575</td>\n",
              "      <td>4.0900</td>\n",
              "      <td>296.0</td>\n",
              "      <td>15.3</td>\n",
              "      <td>4.98</td>\n",
              "    </tr>\n",
              "    <tr>\n",
              "      <th>1</th>\n",
              "      <td>0.02731</td>\n",
              "      <td>0.469</td>\n",
              "      <td>6.421</td>\n",
              "      <td>4.9671</td>\n",
              "      <td>242.0</td>\n",
              "      <td>17.8</td>\n",
              "      <td>9.14</td>\n",
              "    </tr>\n",
              "    <tr>\n",
              "      <th>2</th>\n",
              "      <td>0.02729</td>\n",
              "      <td>0.469</td>\n",
              "      <td>7.185</td>\n",
              "      <td>4.9671</td>\n",
              "      <td>242.0</td>\n",
              "      <td>17.8</td>\n",
              "      <td>4.03</td>\n",
              "    </tr>\n",
              "    <tr>\n",
              "      <th>3</th>\n",
              "      <td>0.03237</td>\n",
              "      <td>0.458</td>\n",
              "      <td>6.998</td>\n",
              "      <td>6.0622</td>\n",
              "      <td>222.0</td>\n",
              "      <td>18.7</td>\n",
              "      <td>2.94</td>\n",
              "    </tr>\n",
              "    <tr>\n",
              "      <th>4</th>\n",
              "      <td>0.06905</td>\n",
              "      <td>0.458</td>\n",
              "      <td>7.147</td>\n",
              "      <td>6.0622</td>\n",
              "      <td>222.0</td>\n",
              "      <td>18.7</td>\n",
              "      <td>5.33</td>\n",
              "    </tr>\n",
              "    <tr>\n",
              "      <th>...</th>\n",
              "      <td>...</td>\n",
              "      <td>...</td>\n",
              "      <td>...</td>\n",
              "      <td>...</td>\n",
              "      <td>...</td>\n",
              "      <td>...</td>\n",
              "      <td>...</td>\n",
              "    </tr>\n",
              "    <tr>\n",
              "      <th>501</th>\n",
              "      <td>0.06263</td>\n",
              "      <td>0.573</td>\n",
              "      <td>6.593</td>\n",
              "      <td>2.4786</td>\n",
              "      <td>273.0</td>\n",
              "      <td>21.0</td>\n",
              "      <td>9.67</td>\n",
              "    </tr>\n",
              "    <tr>\n",
              "      <th>502</th>\n",
              "      <td>0.04527</td>\n",
              "      <td>0.573</td>\n",
              "      <td>6.120</td>\n",
              "      <td>2.2875</td>\n",
              "      <td>273.0</td>\n",
              "      <td>21.0</td>\n",
              "      <td>9.08</td>\n",
              "    </tr>\n",
              "    <tr>\n",
              "      <th>503</th>\n",
              "      <td>0.06076</td>\n",
              "      <td>0.573</td>\n",
              "      <td>6.976</td>\n",
              "      <td>2.1675</td>\n",
              "      <td>273.0</td>\n",
              "      <td>21.0</td>\n",
              "      <td>5.64</td>\n",
              "    </tr>\n",
              "    <tr>\n",
              "      <th>504</th>\n",
              "      <td>0.10959</td>\n",
              "      <td>0.573</td>\n",
              "      <td>6.794</td>\n",
              "      <td>2.3889</td>\n",
              "      <td>273.0</td>\n",
              "      <td>21.0</td>\n",
              "      <td>6.48</td>\n",
              "    </tr>\n",
              "    <tr>\n",
              "      <th>505</th>\n",
              "      <td>0.04741</td>\n",
              "      <td>0.573</td>\n",
              "      <td>6.030</td>\n",
              "      <td>2.5050</td>\n",
              "      <td>273.0</td>\n",
              "      <td>21.0</td>\n",
              "      <td>7.88</td>\n",
              "    </tr>\n",
              "  </tbody>\n",
              "</table>\n",
              "<p>506 rows × 7 columns</p>\n",
              "</div>"
            ],
            "text/plain": [
              "        CRIM    NOX     RM     DIS    TAX  PTRATIO  LSTAT\n",
              "0    0.00632  0.538  6.575  4.0900  296.0     15.3   4.98\n",
              "1    0.02731  0.469  6.421  4.9671  242.0     17.8   9.14\n",
              "2    0.02729  0.469  7.185  4.9671  242.0     17.8   4.03\n",
              "3    0.03237  0.458  6.998  6.0622  222.0     18.7   2.94\n",
              "4    0.06905  0.458  7.147  6.0622  222.0     18.7   5.33\n",
              "..       ...    ...    ...     ...    ...      ...    ...\n",
              "501  0.06263  0.573  6.593  2.4786  273.0     21.0   9.67\n",
              "502  0.04527  0.573  6.120  2.2875  273.0     21.0   9.08\n",
              "503  0.06076  0.573  6.976  2.1675  273.0     21.0   5.64\n",
              "504  0.10959  0.573  6.794  2.3889  273.0     21.0   6.48\n",
              "505  0.04741  0.573  6.030  2.5050  273.0     21.0   7.88\n",
              "\n",
              "[506 rows x 7 columns]"
            ]
          },
          "metadata": {
            "tags": []
          },
          "execution_count": 12
        }
      ]
    },
    {
      "cell_type": "markdown",
      "metadata": {
        "id": "eN6NCdAR9CvB"
      },
      "source": [
        "Note that now we get about half of the features, and that they are not necessarily a superset of the features we would get with univariate selection. It's also possible to set a maximum number of features to be returned, using parameter `max_features`:"
      ]
    },
    {
      "cell_type": "code",
      "metadata": {
        "id": "HELLIhLr9udo",
        "colab": {
          "base_uri": "https://localhost:8080/",
          "height": 419
        },
        "outputId": "096b4c2d-b3e6-4c95-d1f4-8528767ea95c"
      },
      "source": [
        "oneshot_selector = SelectFromModel(RandomForestRegressor(),\n",
        "                                   threshold=\"median\",\n",
        "                                   max_features=5)\n",
        "pd.DataFrame(oneshot_selector.fit_transform(X, y), \n",
        "             columns=X.columns[oneshot_selector.get_support()])"
      ],
      "execution_count": 13,
      "outputs": [
        {
          "output_type": "execute_result",
          "data": {
            "text/html": [
              "<div>\n",
              "<style scoped>\n",
              "    .dataframe tbody tr th:only-of-type {\n",
              "        vertical-align: middle;\n",
              "    }\n",
              "\n",
              "    .dataframe tbody tr th {\n",
              "        vertical-align: top;\n",
              "    }\n",
              "\n",
              "    .dataframe thead th {\n",
              "        text-align: right;\n",
              "    }\n",
              "</style>\n",
              "<table border=\"1\" class=\"dataframe\">\n",
              "  <thead>\n",
              "    <tr style=\"text-align: right;\">\n",
              "      <th></th>\n",
              "      <th>CRIM</th>\n",
              "      <th>NOX</th>\n",
              "      <th>RM</th>\n",
              "      <th>DIS</th>\n",
              "      <th>LSTAT</th>\n",
              "    </tr>\n",
              "  </thead>\n",
              "  <tbody>\n",
              "    <tr>\n",
              "      <th>0</th>\n",
              "      <td>0.00632</td>\n",
              "      <td>0.538</td>\n",
              "      <td>6.575</td>\n",
              "      <td>4.0900</td>\n",
              "      <td>4.98</td>\n",
              "    </tr>\n",
              "    <tr>\n",
              "      <th>1</th>\n",
              "      <td>0.02731</td>\n",
              "      <td>0.469</td>\n",
              "      <td>6.421</td>\n",
              "      <td>4.9671</td>\n",
              "      <td>9.14</td>\n",
              "    </tr>\n",
              "    <tr>\n",
              "      <th>2</th>\n",
              "      <td>0.02729</td>\n",
              "      <td>0.469</td>\n",
              "      <td>7.185</td>\n",
              "      <td>4.9671</td>\n",
              "      <td>4.03</td>\n",
              "    </tr>\n",
              "    <tr>\n",
              "      <th>3</th>\n",
              "      <td>0.03237</td>\n",
              "      <td>0.458</td>\n",
              "      <td>6.998</td>\n",
              "      <td>6.0622</td>\n",
              "      <td>2.94</td>\n",
              "    </tr>\n",
              "    <tr>\n",
              "      <th>4</th>\n",
              "      <td>0.06905</td>\n",
              "      <td>0.458</td>\n",
              "      <td>7.147</td>\n",
              "      <td>6.0622</td>\n",
              "      <td>5.33</td>\n",
              "    </tr>\n",
              "    <tr>\n",
              "      <th>...</th>\n",
              "      <td>...</td>\n",
              "      <td>...</td>\n",
              "      <td>...</td>\n",
              "      <td>...</td>\n",
              "      <td>...</td>\n",
              "    </tr>\n",
              "    <tr>\n",
              "      <th>501</th>\n",
              "      <td>0.06263</td>\n",
              "      <td>0.573</td>\n",
              "      <td>6.593</td>\n",
              "      <td>2.4786</td>\n",
              "      <td>9.67</td>\n",
              "    </tr>\n",
              "    <tr>\n",
              "      <th>502</th>\n",
              "      <td>0.04527</td>\n",
              "      <td>0.573</td>\n",
              "      <td>6.120</td>\n",
              "      <td>2.2875</td>\n",
              "      <td>9.08</td>\n",
              "    </tr>\n",
              "    <tr>\n",
              "      <th>503</th>\n",
              "      <td>0.06076</td>\n",
              "      <td>0.573</td>\n",
              "      <td>6.976</td>\n",
              "      <td>2.1675</td>\n",
              "      <td>5.64</td>\n",
              "    </tr>\n",
              "    <tr>\n",
              "      <th>504</th>\n",
              "      <td>0.10959</td>\n",
              "      <td>0.573</td>\n",
              "      <td>6.794</td>\n",
              "      <td>2.3889</td>\n",
              "      <td>6.48</td>\n",
              "    </tr>\n",
              "    <tr>\n",
              "      <th>505</th>\n",
              "      <td>0.04741</td>\n",
              "      <td>0.573</td>\n",
              "      <td>6.030</td>\n",
              "      <td>2.5050</td>\n",
              "      <td>7.88</td>\n",
              "    </tr>\n",
              "  </tbody>\n",
              "</table>\n",
              "<p>506 rows × 5 columns</p>\n",
              "</div>"
            ],
            "text/plain": [
              "        CRIM    NOX     RM     DIS  LSTAT\n",
              "0    0.00632  0.538  6.575  4.0900   4.98\n",
              "1    0.02731  0.469  6.421  4.9671   9.14\n",
              "2    0.02729  0.469  7.185  4.9671   4.03\n",
              "3    0.03237  0.458  6.998  6.0622   2.94\n",
              "4    0.06905  0.458  7.147  6.0622   5.33\n",
              "..       ...    ...    ...     ...    ...\n",
              "501  0.06263  0.573  6.593  2.4786   9.67\n",
              "502  0.04527  0.573  6.120  2.2875   9.08\n",
              "503  0.06076  0.573  6.976  2.1675   5.64\n",
              "504  0.10959  0.573  6.794  2.3889   6.48\n",
              "505  0.04741  0.573  6.030  2.5050   7.88\n",
              "\n",
              "[506 rows x 5 columns]"
            ]
          },
          "metadata": {
            "tags": []
          },
          "execution_count": 13
        }
      ]
    },
    {
      "cell_type": "markdown",
      "metadata": {
        "id": "DJsuDFSu9tqu"
      },
      "source": [
        "> Check the documentation on `SelectFromModel` to see how to configure selection based only on `max_features`!"
      ]
    },
    {
      "cell_type": "markdown",
      "metadata": {
        "id": "Nj1DEyb595u5"
      },
      "source": [
        "#### Iterative selection"
      ]
    },
    {
      "cell_type": "markdown",
      "metadata": {
        "id": "jK-mWpic-BFx"
      },
      "source": [
        "In contrast to one-shot selection, where feature importance is computed from a single model, iterative selection creates as many models as the number of features to be preserved/discarded. In scikit-learn, the `RFE` (recursive feature elimination) selector iteratively discard the least important feature: "
      ]
    },
    {
      "cell_type": "code",
      "metadata": {
        "id": "XFnn9iYB-0_-",
        "colab": {
          "base_uri": "https://localhost:8080/",
          "height": 419
        },
        "outputId": "970e1e66-3c30-40b2-91cc-4ecd4cb3d5ce"
      },
      "source": [
        "from sklearn.feature_selection import RFE\n",
        "from sklearn.linear_model import Lasso\n",
        "\n",
        "iterative_selector = RFE(estimator=Lasso())\n",
        "pd.DataFrame(iterative_selector.fit_transform(X, y), \n",
        "             columns=X.columns[iterative_selector.get_support()])"
      ],
      "execution_count": 17,
      "outputs": [
        {
          "output_type": "execute_result",
          "data": {
            "text/html": [
              "<div>\n",
              "<style scoped>\n",
              "    .dataframe tbody tr th:only-of-type {\n",
              "        vertical-align: middle;\n",
              "    }\n",
              "\n",
              "    .dataframe tbody tr th {\n",
              "        vertical-align: top;\n",
              "    }\n",
              "\n",
              "    .dataframe thead th {\n",
              "        text-align: right;\n",
              "    }\n",
              "</style>\n",
              "<table border=\"1\" class=\"dataframe\">\n",
              "  <thead>\n",
              "    <tr style=\"text-align: right;\">\n",
              "      <th></th>\n",
              "      <th>CRIM</th>\n",
              "      <th>ZN</th>\n",
              "      <th>RM</th>\n",
              "      <th>DIS</th>\n",
              "      <th>PTRATIO</th>\n",
              "      <th>LSTAT</th>\n",
              "    </tr>\n",
              "  </thead>\n",
              "  <tbody>\n",
              "    <tr>\n",
              "      <th>0</th>\n",
              "      <td>0.00632</td>\n",
              "      <td>18.0</td>\n",
              "      <td>6.575</td>\n",
              "      <td>4.0900</td>\n",
              "      <td>15.3</td>\n",
              "      <td>4.98</td>\n",
              "    </tr>\n",
              "    <tr>\n",
              "      <th>1</th>\n",
              "      <td>0.02731</td>\n",
              "      <td>0.0</td>\n",
              "      <td>6.421</td>\n",
              "      <td>4.9671</td>\n",
              "      <td>17.8</td>\n",
              "      <td>9.14</td>\n",
              "    </tr>\n",
              "    <tr>\n",
              "      <th>2</th>\n",
              "      <td>0.02729</td>\n",
              "      <td>0.0</td>\n",
              "      <td>7.185</td>\n",
              "      <td>4.9671</td>\n",
              "      <td>17.8</td>\n",
              "      <td>4.03</td>\n",
              "    </tr>\n",
              "    <tr>\n",
              "      <th>3</th>\n",
              "      <td>0.03237</td>\n",
              "      <td>0.0</td>\n",
              "      <td>6.998</td>\n",
              "      <td>6.0622</td>\n",
              "      <td>18.7</td>\n",
              "      <td>2.94</td>\n",
              "    </tr>\n",
              "    <tr>\n",
              "      <th>4</th>\n",
              "      <td>0.06905</td>\n",
              "      <td>0.0</td>\n",
              "      <td>7.147</td>\n",
              "      <td>6.0622</td>\n",
              "      <td>18.7</td>\n",
              "      <td>5.33</td>\n",
              "    </tr>\n",
              "    <tr>\n",
              "      <th>...</th>\n",
              "      <td>...</td>\n",
              "      <td>...</td>\n",
              "      <td>...</td>\n",
              "      <td>...</td>\n",
              "      <td>...</td>\n",
              "      <td>...</td>\n",
              "    </tr>\n",
              "    <tr>\n",
              "      <th>501</th>\n",
              "      <td>0.06263</td>\n",
              "      <td>0.0</td>\n",
              "      <td>6.593</td>\n",
              "      <td>2.4786</td>\n",
              "      <td>21.0</td>\n",
              "      <td>9.67</td>\n",
              "    </tr>\n",
              "    <tr>\n",
              "      <th>502</th>\n",
              "      <td>0.04527</td>\n",
              "      <td>0.0</td>\n",
              "      <td>6.120</td>\n",
              "      <td>2.2875</td>\n",
              "      <td>21.0</td>\n",
              "      <td>9.08</td>\n",
              "    </tr>\n",
              "    <tr>\n",
              "      <th>503</th>\n",
              "      <td>0.06076</td>\n",
              "      <td>0.0</td>\n",
              "      <td>6.976</td>\n",
              "      <td>2.1675</td>\n",
              "      <td>21.0</td>\n",
              "      <td>5.64</td>\n",
              "    </tr>\n",
              "    <tr>\n",
              "      <th>504</th>\n",
              "      <td>0.10959</td>\n",
              "      <td>0.0</td>\n",
              "      <td>6.794</td>\n",
              "      <td>2.3889</td>\n",
              "      <td>21.0</td>\n",
              "      <td>6.48</td>\n",
              "    </tr>\n",
              "    <tr>\n",
              "      <th>505</th>\n",
              "      <td>0.04741</td>\n",
              "      <td>0.0</td>\n",
              "      <td>6.030</td>\n",
              "      <td>2.5050</td>\n",
              "      <td>21.0</td>\n",
              "      <td>7.88</td>\n",
              "    </tr>\n",
              "  </tbody>\n",
              "</table>\n",
              "<p>506 rows × 6 columns</p>\n",
              "</div>"
            ],
            "text/plain": [
              "        CRIM    ZN     RM     DIS  PTRATIO  LSTAT\n",
              "0    0.00632  18.0  6.575  4.0900     15.3   4.98\n",
              "1    0.02731   0.0  6.421  4.9671     17.8   9.14\n",
              "2    0.02729   0.0  7.185  4.9671     17.8   4.03\n",
              "3    0.03237   0.0  6.998  6.0622     18.7   2.94\n",
              "4    0.06905   0.0  7.147  6.0622     18.7   5.33\n",
              "..       ...   ...    ...     ...      ...    ...\n",
              "501  0.06263   0.0  6.593  2.4786     21.0   9.67\n",
              "502  0.04527   0.0  6.120  2.2875     21.0   9.08\n",
              "503  0.06076   0.0  6.976  2.1675     21.0   5.64\n",
              "504  0.10959   0.0  6.794  2.3889     21.0   6.48\n",
              "505  0.04741   0.0  6.030  2.5050     21.0   7.88\n",
              "\n",
              "[506 rows x 6 columns]"
            ]
          },
          "metadata": {
            "tags": []
          },
          "execution_count": 17
        }
      ]
    },
    {
      "cell_type": "markdown",
      "metadata": {
        "id": "Q72N2keu_Wg8"
      },
      "source": [
        "In statistics and ML, Lasso (least absolute shrinkage and selection operator) estimator provides a regression analysis method that performs both variable selection and regularization in order to enhance the prediction accuracy and interpretability of the statistical model it produces. [Ref. 3](https://en.wikipedia.org/wiki/Lasso_(statistics))\n",
        "\n",
        "The `RFE` selector can be configured as to the total number of features to select and to the number of features to discard at each iteration:"
      ]
    },
    {
      "cell_type": "code",
      "metadata": {
        "id": "JAYnq-7F_gHN",
        "colab": {
          "base_uri": "https://localhost:8080/",
          "height": 419
        },
        "outputId": "42abef2d-9d89-45ef-cd75-ef626e0ec8e1"
      },
      "source": [
        "iterative_selector = RFE(estimator=Lasso(),\n",
        "                         n_features_to_select=5,\n",
        "                         step=2)\n",
        "pd.DataFrame(iterative_selector.fit_transform(X, y), \n",
        "             columns=X.columns[iterative_selector.get_support()])"
      ],
      "execution_count": 15,
      "outputs": [
        {
          "output_type": "execute_result",
          "data": {
            "text/html": [
              "<div>\n",
              "<style scoped>\n",
              "    .dataframe tbody tr th:only-of-type {\n",
              "        vertical-align: middle;\n",
              "    }\n",
              "\n",
              "    .dataframe tbody tr th {\n",
              "        vertical-align: top;\n",
              "    }\n",
              "\n",
              "    .dataframe thead th {\n",
              "        text-align: right;\n",
              "    }\n",
              "</style>\n",
              "<table border=\"1\" class=\"dataframe\">\n",
              "  <thead>\n",
              "    <tr style=\"text-align: right;\">\n",
              "      <th></th>\n",
              "      <th>CRIM</th>\n",
              "      <th>RM</th>\n",
              "      <th>DIS</th>\n",
              "      <th>PTRATIO</th>\n",
              "      <th>LSTAT</th>\n",
              "    </tr>\n",
              "  </thead>\n",
              "  <tbody>\n",
              "    <tr>\n",
              "      <th>0</th>\n",
              "      <td>0.00632</td>\n",
              "      <td>6.575</td>\n",
              "      <td>4.0900</td>\n",
              "      <td>15.3</td>\n",
              "      <td>4.98</td>\n",
              "    </tr>\n",
              "    <tr>\n",
              "      <th>1</th>\n",
              "      <td>0.02731</td>\n",
              "      <td>6.421</td>\n",
              "      <td>4.9671</td>\n",
              "      <td>17.8</td>\n",
              "      <td>9.14</td>\n",
              "    </tr>\n",
              "    <tr>\n",
              "      <th>2</th>\n",
              "      <td>0.02729</td>\n",
              "      <td>7.185</td>\n",
              "      <td>4.9671</td>\n",
              "      <td>17.8</td>\n",
              "      <td>4.03</td>\n",
              "    </tr>\n",
              "    <tr>\n",
              "      <th>3</th>\n",
              "      <td>0.03237</td>\n",
              "      <td>6.998</td>\n",
              "      <td>6.0622</td>\n",
              "      <td>18.7</td>\n",
              "      <td>2.94</td>\n",
              "    </tr>\n",
              "    <tr>\n",
              "      <th>4</th>\n",
              "      <td>0.06905</td>\n",
              "      <td>7.147</td>\n",
              "      <td>6.0622</td>\n",
              "      <td>18.7</td>\n",
              "      <td>5.33</td>\n",
              "    </tr>\n",
              "    <tr>\n",
              "      <th>...</th>\n",
              "      <td>...</td>\n",
              "      <td>...</td>\n",
              "      <td>...</td>\n",
              "      <td>...</td>\n",
              "      <td>...</td>\n",
              "    </tr>\n",
              "    <tr>\n",
              "      <th>501</th>\n",
              "      <td>0.06263</td>\n",
              "      <td>6.593</td>\n",
              "      <td>2.4786</td>\n",
              "      <td>21.0</td>\n",
              "      <td>9.67</td>\n",
              "    </tr>\n",
              "    <tr>\n",
              "      <th>502</th>\n",
              "      <td>0.04527</td>\n",
              "      <td>6.120</td>\n",
              "      <td>2.2875</td>\n",
              "      <td>21.0</td>\n",
              "      <td>9.08</td>\n",
              "    </tr>\n",
              "    <tr>\n",
              "      <th>503</th>\n",
              "      <td>0.06076</td>\n",
              "      <td>6.976</td>\n",
              "      <td>2.1675</td>\n",
              "      <td>21.0</td>\n",
              "      <td>5.64</td>\n",
              "    </tr>\n",
              "    <tr>\n",
              "      <th>504</th>\n",
              "      <td>0.10959</td>\n",
              "      <td>6.794</td>\n",
              "      <td>2.3889</td>\n",
              "      <td>21.0</td>\n",
              "      <td>6.48</td>\n",
              "    </tr>\n",
              "    <tr>\n",
              "      <th>505</th>\n",
              "      <td>0.04741</td>\n",
              "      <td>6.030</td>\n",
              "      <td>2.5050</td>\n",
              "      <td>21.0</td>\n",
              "      <td>7.88</td>\n",
              "    </tr>\n",
              "  </tbody>\n",
              "</table>\n",
              "<p>506 rows × 5 columns</p>\n",
              "</div>"
            ],
            "text/plain": [
              "        CRIM     RM     DIS  PTRATIO  LSTAT\n",
              "0    0.00632  6.575  4.0900     15.3   4.98\n",
              "1    0.02731  6.421  4.9671     17.8   9.14\n",
              "2    0.02729  7.185  4.9671     17.8   4.03\n",
              "3    0.03237  6.998  6.0622     18.7   2.94\n",
              "4    0.06905  7.147  6.0622     18.7   5.33\n",
              "..       ...    ...     ...      ...    ...\n",
              "501  0.06263  6.593  2.4786     21.0   9.67\n",
              "502  0.04527  6.120  2.2875     21.0   9.08\n",
              "503  0.06076  6.976  2.1675     21.0   5.64\n",
              "504  0.10959  6.794  2.3889     21.0   6.48\n",
              "505  0.04741  6.030  2.5050     21.0   7.88\n",
              "\n",
              "[506 rows x 5 columns]"
            ]
          },
          "metadata": {
            "tags": []
          },
          "execution_count": 15
        }
      ]
    },
    {
      "cell_type": "markdown",
      "metadata": {
        "id": "3HnL43aqDSfm"
      },
      "source": [
        "### Adding wrappers to the pipeline"
      ]
    },
    {
      "cell_type": "markdown",
      "metadata": {
        "id": "uyKqBi47EKbE"
      },
      "source": [
        "As we have discussed before, everything that happens in machine learning is part of a pipeline. In scikit-learn, wrapper selectors should also be added to pipelines, as we did with data preparation. Let's see how that would work using two selectors:"
      ]
    },
    {
      "cell_type": "code",
      "metadata": {
        "id": "Yn_O7fz2EalV",
        "colab": {
          "base_uri": "https://localhost:8080/",
          "height": 0
        },
        "outputId": "dd255fac-2382-4728-cabc-7ba810be27d2"
      },
      "source": [
        "prep_sel_pipe = make_pipeline(MinMaxScaler(),\n",
        "                              StandardScaler(),\n",
        "                              iterative_selector\n",
        "                              )\n",
        "\n",
        "prep_sel_pipe.fit(X, y)\n",
        "column_mask = iterative_selector.get_support()\n",
        "pd.DataFrame(prep_sel_pipe.transform(X), columns=X.columns[column_mask])"
      ],
      "execution_count": 16,
      "outputs": [
        {
          "output_type": "execute_result",
          "data": {
            "text/html": [
              "<div>\n",
              "<style scoped>\n",
              "    .dataframe tbody tr th:only-of-type {\n",
              "        vertical-align: middle;\n",
              "    }\n",
              "\n",
              "    .dataframe tbody tr th {\n",
              "        vertical-align: top;\n",
              "    }\n",
              "\n",
              "    .dataframe thead th {\n",
              "        text-align: right;\n",
              "    }\n",
              "</style>\n",
              "<table border=\"1\" class=\"dataframe\">\n",
              "  <thead>\n",
              "    <tr style=\"text-align: right;\">\n",
              "      <th></th>\n",
              "      <th>RM</th>\n",
              "      <th>TAX</th>\n",
              "      <th>PTRATIO</th>\n",
              "      <th>B</th>\n",
              "      <th>LSTAT</th>\n",
              "    </tr>\n",
              "  </thead>\n",
              "  <tbody>\n",
              "    <tr>\n",
              "      <th>0</th>\n",
              "      <td>0.413672</td>\n",
              "      <td>-0.666608</td>\n",
              "      <td>-1.459000</td>\n",
              "      <td>0.441052</td>\n",
              "      <td>-1.075562</td>\n",
              "    </tr>\n",
              "    <tr>\n",
              "      <th>1</th>\n",
              "      <td>0.194274</td>\n",
              "      <td>-0.987329</td>\n",
              "      <td>-0.303094</td>\n",
              "      <td>0.441052</td>\n",
              "      <td>-0.492439</td>\n",
              "    </tr>\n",
              "    <tr>\n",
              "      <th>2</th>\n",
              "      <td>1.282714</td>\n",
              "      <td>-0.987329</td>\n",
              "      <td>-0.303094</td>\n",
              "      <td>0.396427</td>\n",
              "      <td>-1.208727</td>\n",
              "    </tr>\n",
              "    <tr>\n",
              "      <th>3</th>\n",
              "      <td>1.016303</td>\n",
              "      <td>-1.106115</td>\n",
              "      <td>0.113032</td>\n",
              "      <td>0.416163</td>\n",
              "      <td>-1.361517</td>\n",
              "    </tr>\n",
              "    <tr>\n",
              "      <th>4</th>\n",
              "      <td>1.228577</td>\n",
              "      <td>-1.106115</td>\n",
              "      <td>0.113032</td>\n",
              "      <td>0.441052</td>\n",
              "      <td>-1.026501</td>\n",
              "    </tr>\n",
              "    <tr>\n",
              "      <th>...</th>\n",
              "      <td>...</td>\n",
              "      <td>...</td>\n",
              "      <td>...</td>\n",
              "      <td>...</td>\n",
              "      <td>...</td>\n",
              "    </tr>\n",
              "    <tr>\n",
              "      <th>501</th>\n",
              "      <td>0.439316</td>\n",
              "      <td>-0.803212</td>\n",
              "      <td>1.176466</td>\n",
              "      <td>0.387217</td>\n",
              "      <td>-0.418147</td>\n",
              "    </tr>\n",
              "    <tr>\n",
              "      <th>502</th>\n",
              "      <td>-0.234548</td>\n",
              "      <td>-0.803212</td>\n",
              "      <td>1.176466</td>\n",
              "      <td>0.441052</td>\n",
              "      <td>-0.500850</td>\n",
              "    </tr>\n",
              "    <tr>\n",
              "      <th>503</th>\n",
              "      <td>0.984960</td>\n",
              "      <td>-0.803212</td>\n",
              "      <td>1.176466</td>\n",
              "      <td>0.441052</td>\n",
              "      <td>-0.983048</td>\n",
              "    </tr>\n",
              "    <tr>\n",
              "      <th>504</th>\n",
              "      <td>0.725672</td>\n",
              "      <td>-0.803212</td>\n",
              "      <td>1.176466</td>\n",
              "      <td>0.403225</td>\n",
              "      <td>-0.865302</td>\n",
              "    </tr>\n",
              "    <tr>\n",
              "      <th>505</th>\n",
              "      <td>-0.362767</td>\n",
              "      <td>-0.803212</td>\n",
              "      <td>1.176466</td>\n",
              "      <td>0.441052</td>\n",
              "      <td>-0.669058</td>\n",
              "    </tr>\n",
              "  </tbody>\n",
              "</table>\n",
              "<p>506 rows × 5 columns</p>\n",
              "</div>"
            ],
            "text/plain": [
              "           RM       TAX   PTRATIO         B     LSTAT\n",
              "0    0.413672 -0.666608 -1.459000  0.441052 -1.075562\n",
              "1    0.194274 -0.987329 -0.303094  0.441052 -0.492439\n",
              "2    1.282714 -0.987329 -0.303094  0.396427 -1.208727\n",
              "3    1.016303 -1.106115  0.113032  0.416163 -1.361517\n",
              "4    1.228577 -1.106115  0.113032  0.441052 -1.026501\n",
              "..        ...       ...       ...       ...       ...\n",
              "501  0.439316 -0.803212  1.176466  0.387217 -0.418147\n",
              "502 -0.234548 -0.803212  1.176466  0.441052 -0.500850\n",
              "503  0.984960 -0.803212  1.176466  0.441052 -0.983048\n",
              "504  0.725672 -0.803212  1.176466  0.403225 -0.865302\n",
              "505 -0.362767 -0.803212  1.176466  0.441052 -0.669058\n",
              "\n",
              "[506 rows x 5 columns]"
            ]
          },
          "metadata": {
            "tags": []
          },
          "execution_count": 16
        }
      ]
    },
    {
      "cell_type": "markdown",
      "metadata": {
        "id": "keGyUFzeG_-R"
      },
      "source": [
        "Note that preserving feature names gets trickier with the addition of more components to the pipeline. To do that, we get the masks provided by each selector and combine them using the and operator `&`.\n",
        "\n",
        "> \n",
        "> Scikit-learn should make this easier!"
      ]
    },
    {
      "cell_type": "markdown",
      "metadata": {
        "id": "i0QG0szO_tyU"
      },
      "source": [
        "## **Embedded** Approaches"
      ]
    },
    {
      "cell_type": "markdown",
      "metadata": {
        "id": "GaT_m8JlPF9c"
      },
      "source": [
        "In filter and wrapper approaches, feature selection is a step that comes prior to estimation (even if wrapper approaches use auxiliary model fitting). In embedded approaches, feature selection is done internally by the estimator during model fitting. Not all estimators provide this possibility, though. \n",
        "\n",
        "A learning algorithm takes advantage of its own variable selection process and performs feature selection and classification simultaneously.\n",
        "\n",
        "![Feature_selection_Embedded_Method.png](data:image/png;base64,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)\n",
        "\n",
        "Basic schematic of embedded approaches [Ref. 2](https://en.wikipedia.org/wiki/Feature_selection)\n",
        "\n",
        "Besides the estimators discussed in the wrapper approach section, another estimator that deserves to be mentioned is the **Multi-layer Perceptron**. Below we discuss a bit how this is done by different estimators:"
      ]
    },
    {
      "cell_type": "markdown",
      "metadata": {
        "id": "f-wwv6o1Y1Wt"
      },
      "source": [
        "### L1-norm regularization"
      ]
    },
    {
      "cell_type": "markdown",
      "metadata": {
        "id": "vcTc3ScEZi1J"
      },
      "source": [
        "Some algorithms, such as (generalized) linear models or support vector machines, make use of penalty factors to prevent models from overfitting to data. When the regularization approach is based on the <ins>L1-norm</ins>, which is also called \"Manhattan distance\", features may actually get ruled out of model fitting.\n",
        "\n",
        "Manhattan distance is a metric in which the distance between two points is the sum of the absolute differences of their Cartesian coordinates. In a simple way of saying it is the total sum of the difference between the x-coordinates and y-coordinates. [Ref.4](https://medium.com/analytics-vidhya/various-types-of-distance-metrics-machine-learning-cc9d4698c2da#:~:text=Manhattan%20distance%20is%20a%20metric,%2Dcoordinates%20and%20y%2Dcoordinates.)\n",
        "\n",
        "Scikit-learn offers several estimators that implement L1-norm regularization, among which we highlight the following. For each estimator in the table below, we highlight whether it can be applied to regression or classification, which hyperparameter configures its regularization level, and whether the relation between the hyperparameter and the regularization level is direct or inverse (if direct, the higher the value of the hyperparameter, the higher the regularization level).\n",
        "\n",
        "| Estimator | Regression | Classification | Hyperparameter | Direct/Inverse |\n",
        "| --- | --- | --- | --- | --- |\n",
        "| `Lasso` | ✔️| ❌ | `alpha` | direct |\n",
        "| `LogisticRegression` | ❌| ✔️| `C`  | inverse\n"
      ]
    },
    {
      "cell_type": "markdown",
      "metadata": {
        "id": "6Lh-m1M7d3Xj"
      },
      "source": [
        "### **Forests**"
      ]
    },
    {
      "cell_type": "markdown",
      "metadata": {
        "id": "wzi4_0FnlTiF"
      },
      "source": [
        "Decision trees are among the simplest machine learning estimators, and indeed their predictive power is often surpassed in practice by other estimators. The basic principle behind decision trees is selecting features incrementally according to their predictive power. Effectively, decision trees are the simplest embedded feature selection example. The more robust versions of decision trees, forests, preserve this benefit while providing better predictive performance than traditional decision trees. Scikit-learn offers a handful of forest-based estimators, among which we highlight `RandomForestRegressor` and `RandomForestClassifier`. However, configuring the feature selection nature of random forests is a more complex task, since it involves multiple hyperparameters."
      ]
    },
    {
      "cell_type": "markdown",
      "metadata": {
        "id": "hDaLy_65hyIo"
      },
      "source": [
        "### **Neural networks**"
      ]
    },
    {
      "cell_type": "markdown",
      "metadata": {
        "id": "YRn3FtXMhxBJ"
      },
      "source": [
        "Neural networks comprise a large estimator family that became popular thanks to the multi-layer perceptron (MLP). In this type of neural network, features are input to a series of neurons aligned in layers, and the processing conducted in consecutive layers determines the network output. Since each neuron can weight the importance of the information it is fed as input, some features may have their importance zeroed by the network. Scikit-learn is a not a library specialized in neural networks, but it offers the `MLPRegressor` and `MLPClassifier` estimators. Configuring neural networks is far more complex than configuring forest-based estimators. \n",
        "\n",
        "> Actually, configuring any machine learning pipeline is a complex task. We'll dedicate a whole notebook to that later :)"
      ]
    },
    {
      "cell_type": "markdown",
      "metadata": {
        "id": "1VIW9M9AlHST"
      },
      "source": [
        "## A critical discussion"
      ]
    },
    {
      "cell_type": "markdown",
      "metadata": {
        "id": "5CNjNPuGYiIz"
      },
      "source": [
        "The several selection approaches discussed here offer different trade-offs between the information level used for selection and the computational cost required to produce that information level. In principle, embedded approaches should be preferred if the application domain is favorable to those estimators. Next, filter approaches are the computationally cheapest, but their selection capabilities are quite limited. Lastly, wrapper approaches are a very interesting alternative, with the particular methods for model fitting and selection being decided as a function of the problem one has at hand. An important thing to remember when using wrapper approaches, though, is to use cheap-to-compute auxiliary estimators, specially in iterative approaches.\n",
        "\n",
        "It is also important to remember that one can look at different selection approaches from a complementary perspective, rather than as mutually exclusive alternatives. It is not only possible to combine any two of the options discussed here, but the three altogether. The need for that is problem-specific, and experimental analysis is a powerful ally to state when to use which :)"
      ]
    }
  ]
}